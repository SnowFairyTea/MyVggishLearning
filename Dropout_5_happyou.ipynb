{
 "cells": [
  {
   "cell_type": "code",
   "execution_count": 1,
   "id": "770cff74",
   "metadata": {},
   "outputs": [
    {
     "name": "stdout",
     "output_type": "stream",
     "text": [
      "vggish/embedding:0\n",
      "vggish/embedding:0\n",
      "Using cuda device\n"
     ]
    }
   ],
   "source": [
    "from mylibs.dataloader_dict import *\n",
    "from mylibs.trainer import *\n",
    "import torch\n",
    "import torch.nn as nn\n",
    "import os\n",
    "import torch.utils.data as data\n",
    "from importlib import import_module\n",
    "import matplotlib.pyplot as plt\n",
    "import torch.optim as optim\n",
    "import copy\n",
    "\n",
    "vggish_input=import_module(\".torchvggish.vggish_input\",\"torchvggish-master_changed\")\n",
    "use_pretrained = True\n",
    "\n",
    "#GPU\n",
    "device = 'cuda' if torch.cuda.is_available() else 'cpu'\n",
    "print('Using {} device'.format(device))\n",
    "labels=[\"Speech\",\"Music\",\"Silence\",\"Siren\",\"Vehicle\",\"Wind\"]"
   ]
  },
  {
   "cell_type": "code",
   "execution_count": 2,
   "id": "13d6dd40",
   "metadata": {},
   "outputs": [
    {
     "name": "stdout",
     "output_type": "stream",
     "text": [
      "vggish/embedding:0\n",
      "C:\\Users\\hase\\git\\MyVggishLearning\\mylibs\\dataloaders ['C:\\\\Users\\\\hase\\\\git\\\\MyVggishLearning\\\\mylibs\\\\dataloaders\\\\evalMusicSilenceSirenSpeechVehicleWind.jb', 'C:\\\\Users\\\\hase\\\\git\\\\MyVggishLearning\\\\mylibs\\\\dataloaders\\\\trainMusic100Speech100.jb', 'C:\\\\Users\\\\hase\\\\git\\\\MyVggishLearning\\\\mylibs\\\\dataloaders\\\\trainMusic10Speech10.jb', 'C:\\\\Users\\\\hase\\\\git\\\\MyVggishLearning\\\\mylibs\\\\dataloaders\\\\trainMusicSilenceSirenSpeechVehicle.jb', 'C:\\\\Users\\\\hase\\\\git\\\\MyVggishLearning\\\\mylibs\\\\dataloaders\\\\trainMusicSilenceSirenSpeechVehicleWind.jb', 'C:\\\\Users\\\\hase\\\\git\\\\MyVggishLearning\\\\mylibs\\\\dataloaders\\\\trainMusicSirenSpeechVehicle.jb', 'C:\\\\Users\\\\hase\\\\git\\\\MyVggishLearning\\\\mylibs\\\\dataloaders\\\\trainMusicSpeech.jb']\n",
      "joblib.loadします\n",
      "train用データの数：674\n",
      "valid用データの数：347\n"
     ]
    }
   ],
   "source": [
    "#これを保存した\n",
    "mymodel=trainer(_print=False,_lr=1,_classfilter=nn.Sequential(\n",
    "                            nn.Linear(128,64),\n",
    "                            nn.Dropout(p=0.25),\n",
    "                            nn.Sigmoid(),\n",
    "                            nn.Linear(64,6),\n",
    "                            nn.Softmax(dim=1)\n",
    "                            ) )\n",
    "dataloader_dict=get_dataloader_dict(labels,datatype=\"train\")\n",
    "\n"
   ]
  },
  {
   "cell_type": "code",
   "execution_count": 3,
   "id": "5fc884b2",
   "metadata": {},
   "outputs": [
    {
     "name": "stdout",
     "output_type": "stream",
     "text": [
      "Epoch 1/50\n",
      "train Loss: 1.753937 Acc: 0.241830\n",
      "valid Loss: 1.720516 Acc: 0.379469\n",
      "Epoch 2/50\n",
      "train Loss: 1.713514 Acc: 0.452020\n",
      "valid Loss: 1.689282 Acc: 0.512111\n",
      "Epoch 3/50\n",
      "train Loss: 1.695496 Acc: 0.520945\n",
      "valid Loss: 1.671822 Acc: 0.559400\n",
      "Epoch 4/50\n",
      "train Loss: 1.684939 Acc: 0.555258\n",
      "valid Loss: 1.660507 Acc: 0.586505\n",
      "Epoch 5/50\n",
      "train Loss: 1.678200 Acc: 0.580660\n",
      "valid Loss: 1.652161 Acc: 0.598616\n",
      "Epoch 6/50\n",
      "train Loss: 1.673359 Acc: 0.591949\n",
      "valid Loss: 1.645626 Acc: 0.606113\n",
      "Epoch 7/50\n",
      "train Loss: 1.668520 Acc: 0.596851\n",
      "valid Loss: 1.640206 Acc: 0.608997\n",
      "Epoch 8/50\n",
      "train Loss: 1.665378 Acc: 0.602347\n",
      "valid Loss: 1.635696 Acc: 0.610727\n",
      "Epoch 9/50\n",
      "train Loss: 1.662282 Acc: 0.614379\n",
      "valid Loss: 1.631688 Acc: 0.642445\n",
      "Epoch 10/50\n",
      "train Loss: 1.660094 Acc: 0.627897\n",
      "valid Loss: 1.628186 Acc: 0.643599\n",
      "Epoch 11/50\n",
      "train Loss: 1.657495 Acc: 0.632799\n",
      "valid Loss: 1.624918 Acc: 0.647059\n",
      "Epoch 12/50\n",
      "train Loss: 1.655244 Acc: 0.635918\n",
      "valid Loss: 1.622117 Acc: 0.649366\n",
      "Epoch 13/50\n",
      "train Loss: 1.653301 Acc: 0.640969\n",
      "valid Loss: 1.619522 Acc: 0.649942\n",
      "Epoch 14/50\n",
      "train Loss: 1.651855 Acc: 0.643791\n",
      "valid Loss: 1.617191 Acc: 0.650519\n",
      "Epoch 15/50\n",
      "train Loss: 1.649848 Acc: 0.643642\n",
      "valid Loss: 1.615118 Acc: 0.650519\n",
      "Epoch 16/50\n",
      "train Loss: 1.648573 Acc: 0.643642\n",
      "valid Loss: 1.613242 Acc: 0.652249\n",
      "Epoch 17/50\n",
      "train Loss: 1.648039 Acc: 0.647059\n",
      "valid Loss: 1.611551 Acc: 0.651672\n",
      "Epoch 18/50\n",
      "train Loss: 1.647271 Acc: 0.649584\n",
      "valid Loss: 1.609986 Acc: 0.653403\n",
      "Epoch 19/50\n",
      "train Loss: 1.645728 Acc: 0.651367\n",
      "valid Loss: 1.608607 Acc: 0.655709\n",
      "Epoch 20/50\n",
      "train Loss: 1.645052 Acc: 0.650327\n",
      "valid Loss: 1.607335 Acc: 0.657439\n",
      "Epoch 21/50\n",
      "train Loss: 1.643902 Acc: 0.651664\n",
      "valid Loss: 1.606103 Acc: 0.658593\n",
      "Epoch 22/50\n",
      "train Loss: 1.643436 Acc: 0.654486\n",
      "valid Loss: 1.605002 Acc: 0.659170\n",
      "Epoch 23/50\n",
      "train Loss: 1.642130 Acc: 0.652406\n",
      "valid Loss: 1.603944 Acc: 0.660323\n",
      "Epoch 24/50\n",
      "train Loss: 1.641954 Acc: 0.656120\n",
      "valid Loss: 1.602975 Acc: 0.660323\n",
      "Epoch 25/50\n",
      "train Loss: 1.641263 Acc: 0.658645\n",
      "valid Loss: 1.602111 Acc: 0.659170\n",
      "Epoch 26/50\n",
      "train Loss: 1.640906 Acc: 0.658051\n",
      "valid Loss: 1.601236 Acc: 0.659746\n",
      "Epoch 27/50\n",
      "train Loss: 1.640236 Acc: 0.654337\n",
      "valid Loss: 1.600465 Acc: 0.660323\n",
      "Epoch 28/50\n",
      "train Loss: 1.639380 Acc: 0.659834\n",
      "valid Loss: 1.599707 Acc: 0.662053\n",
      "Epoch 29/50\n",
      "train Loss: 1.638889 Acc: 0.659685\n",
      "valid Loss: 1.598967 Acc: 0.662053\n",
      "Epoch 30/50\n",
      "train Loss: 1.638646 Acc: 0.660873\n",
      "valid Loss: 1.598316 Acc: 0.663206\n",
      "Epoch 31/50\n",
      "train Loss: 1.638232 Acc: 0.660725\n",
      "valid Loss: 1.597674 Acc: 0.664360\n",
      "Epoch 32/50\n",
      "train Loss: 1.637512 Acc: 0.663696\n",
      "valid Loss: 1.597074 Acc: 0.664360\n",
      "Epoch 33/50\n",
      "train Loss: 1.637204 Acc: 0.662656\n",
      "valid Loss: 1.596489 Acc: 0.663783\n",
      "Epoch 34/50\n",
      "train Loss: 1.636981 Acc: 0.661171\n",
      "valid Loss: 1.595954 Acc: 0.664360\n",
      "Epoch 35/50\n",
      "train Loss: 1.636752 Acc: 0.662656\n",
      "valid Loss: 1.595427 Acc: 0.667243\n",
      "Epoch 36/50\n",
      "train Loss: 1.636294 Acc: 0.665627\n",
      "valid Loss: 1.594944 Acc: 0.666090\n",
      "Epoch 37/50\n",
      "train Loss: 1.636518 Acc: 0.663102\n",
      "valid Loss: 1.594465 Acc: 0.667243\n",
      "Epoch 38/50\n",
      "train Loss: 1.635684 Acc: 0.665330\n",
      "valid Loss: 1.594007 Acc: 0.667243\n",
      "Epoch 39/50\n",
      "train Loss: 1.634951 Acc: 0.665775\n",
      "valid Loss: 1.593546 Acc: 0.667243\n",
      "Epoch 40/50\n",
      "train Loss: 1.635171 Acc: 0.666370\n",
      "valid Loss: 1.593194 Acc: 0.668397\n",
      "Epoch 41/50\n",
      "train Loss: 1.635191 Acc: 0.665775\n",
      "valid Loss: 1.592781 Acc: 0.667820\n",
      "Epoch 42/50\n",
      "train Loss: 1.634489 Acc: 0.665775\n",
      "valid Loss: 1.592397 Acc: 0.667820\n",
      "Epoch 43/50\n",
      "train Loss: 1.634535 Acc: 0.666518\n",
      "valid Loss: 1.592019 Acc: 0.667243\n",
      "Epoch 44/50\n",
      "train Loss: 1.633939 Acc: 0.668598\n",
      "valid Loss: 1.591672 Acc: 0.667243\n",
      "Epoch 45/50\n",
      "train Loss: 1.633889 Acc: 0.670083\n",
      "valid Loss: 1.591315 Acc: 0.667243\n",
      "Epoch 46/50\n",
      "train Loss: 1.633750 Acc: 0.667706\n",
      "valid Loss: 1.591003 Acc: 0.667243\n",
      "Epoch 47/50\n",
      "train Loss: 1.633614 Acc: 0.664439\n",
      "valid Loss: 1.590666 Acc: 0.667243\n",
      "Epoch 48/50\n",
      "train Loss: 1.633703 Acc: 0.668301\n",
      "valid Loss: 1.590347 Acc: 0.667820\n",
      "Epoch 49/50\n",
      "train Loss: 1.633232 Acc: 0.669192\n",
      "valid Loss: 1.590053 Acc: 0.667820\n",
      "Epoch 50/50\n",
      "train Loss: 1.632813 Acc: 0.670974\n",
      "valid Loss: 1.589752 Acc: 0.667820\n"
     ]
    },
    {
     "data": {
      "image/png": "[encoded data removed]",
      "text/plain": [
       "<Figure size 432x288 with 1 Axes>"
      ]
     },
     "metadata": {
      "needs_background": "light"
     },
     "output_type": "display_data"
    },
    {
     "data": {
      "image/png": "[encoded data removed]",
      "text/plain": [
       "<Figure size 432x288 with 1 Axes>"
      ]
     },
     "metadata": {
      "needs_background": "light"
     },
     "output_type": "display_data"
    }
   ],
   "source": [
    "mymodel.train(dataloader_dict,_print=True,_num_epochs=50)\n",
    "mymodel.graph()"
   ]
  },
  {
   "cell_type": "code",
   "execution_count": 4,
   "id": "3b37b6d8",
   "metadata": {},
   "outputs": [
    {
     "data": {
      "text/plain": [
       "['tyuukannyou.jb']"
      ]
     },
     "execution_count": 4,
     "metadata": {},
     "output_type": "execute_result"
    }
   ],
   "source": [
    "#hozon\n",
    "import joblib\n",
    "joblib.dump(mymodel,\"tyuukannyou.jb\", compress=3)"
   ]
  },
  {
   "cell_type": "code",
   "execution_count": 5,
   "id": "04ad9efa",
   "metadata": {},
   "outputs": [],
   "source": [
    "#よみこみ\n",
    "import joblib\n",
    "dataloader_dict=joblib.load(\"tyuukannyou.jb\")"
   ]
  },
  {
   "cell_type": "code",
   "execution_count": 5,
   "id": "6312f08e",
   "metadata": {
    "scrolled": true
   },
   "outputs": [
    {
     "name": "stdout",
     "output_type": "stream",
     "text": [
      "C:\\Users\\hase\\git\\MyVggishLearning\\mylibs\\dataloaders ['C:\\\\Users\\\\hase\\\\git\\\\MyVggishLearning\\\\mylibs\\\\dataloaders\\\\evalMusicSilenceSirenSpeechVehicleWind.jb', 'C:\\\\Users\\\\hase\\\\git\\\\MyVggishLearning\\\\mylibs\\\\dataloaders\\\\trainMusic100Speech100.jb', 'C:\\\\Users\\\\hase\\\\git\\\\MyVggishLearning\\\\mylibs\\\\dataloaders\\\\trainMusic10Speech10.jb', 'C:\\\\Users\\\\hase\\\\git\\\\MyVggishLearning\\\\mylibs\\\\dataloaders\\\\trainMusicSilenceSirenSpeechVehicle.jb', 'C:\\\\Users\\\\hase\\\\git\\\\MyVggishLearning\\\\mylibs\\\\dataloaders\\\\trainMusicSilenceSirenSpeechVehicleWind.jb', 'C:\\\\Users\\\\hase\\\\git\\\\MyVggishLearning\\\\mylibs\\\\dataloaders\\\\trainMusicSirenSpeechVehicle.jb', 'C:\\\\Users\\\\hase\\\\git\\\\MyVggishLearning\\\\mylibs\\\\dataloaders\\\\trainMusicSpeech.jb']\n",
      "joblib.loadします\n",
      "train用データの数：75\n",
      "valid用データの数：42\n",
      "正解数/入力数:473/743\n",
      "正解率:0.637\n"
     ]
    }
   ],
   "source": [
    "\n",
    "dataloader_dict=get_dataloader_dict(labels,datatype=\"eval\")\n",
    "def eval(tr,dataloader_dict,labels):\n",
    "    model=tr.model\n",
    "    inputs,la = iter(dataloader_dict[\"train\"]).__next__()\n",
    "    model.eval()\n",
    "\n",
    "    output = model(inputs)\n",
    "    for h in range(len(output)):\n",
    "        print(\"模範解答\",labels[la[h].item()])\n",
    "        ans=[[labels[i],output[h][i].item()] for i in range(len(labels))]\n",
    "        ans.sort(key=lambda x: x[1],reverse=True)\n",
    "        [print(\"{:7}:{:.5f}\".format(ans[i][0],ans[i][1])) for i in range(len(ans))]\n",
    "        print(\"----------------\")\n",
    "\n",
    "def eval2(tr,dataloader_dict,labels):\n",
    "    model=tr.model\n",
    "    acc=0\n",
    "    count=0.0\n",
    "    for inputs,la in dataloader_dict[\"train\"]:\n",
    "\n",
    "        model.eval()\n",
    "\n",
    "        output = model(inputs)\n",
    "        for h in range(len(output)):\n",
    "            #print(\"模範解答\",labels[la[h].item()])\n",
    "            ans=[[i,output[h][i].item()] for i in range(len(labels))]\n",
    "            ans.sort(key=lambda x: x[1],reverse=True)\n",
    "            acc+=1 if (ans[0][0]==la[h])else 0\n",
    "            count+=1\n",
    "            #[print(\"{:7}:{:.5f}\".format(ans[i][0],ans[i][1])) for i in range(len(ans))]\n",
    "            #print(\"----------------\")\n",
    "    print(\"正解数/入力数:{}/{:.0f}\".format(acc,count))\n",
    "    print(\"正解率:{:.3f}\".format(acc/count))\n",
    "#eval(mymodel,dataloader_dict,labels)        \n",
    "eval2(mymodel,dataloader_dict,labels)\n"
   ]
  },
  {
   "cell_type": "code",
   "execution_count": 6,
   "id": "56518499",
   "metadata": {},
   "outputs": [
    {
     "name": "stdout",
     "output_type": "stream",
     "text": [
      "模範解答 Speech\n",
      "Speech :0.52110\n",
      "Siren  :0.13776\n",
      "Music  :0.10858\n",
      "Wind   :0.08708\n",
      "Vehicle:0.08445\n",
      "Silence:0.06103\n",
      "----------------\n",
      "模範解答 Wind\n",
      "Siren  :0.29005\n",
      "Wind   :0.28584\n",
      "Vehicle:0.17389\n",
      "Speech :0.13511\n",
      "Silence:0.06387\n",
      "Music  :0.05124\n",
      "----------------\n",
      "模範解答 Siren\n",
      "Siren  :0.54936\n",
      "Music  :0.12463\n",
      "Speech :0.11021\n",
      "Wind   :0.07641\n",
      "Vehicle:0.07503\n",
      "Silence:0.06436\n",
      "----------------\n",
      "模範解答 Speech\n",
      "Speech :0.37006\n",
      "Music  :0.20474\n",
      "Siren  :0.19471\n",
      "Vehicle:0.09380\n",
      "Wind   :0.08514\n",
      "Silence:0.05155\n",
      "----------------\n",
      "模範解答 Wind\n",
      "Wind   :0.43472\n",
      "Siren  :0.17116\n",
      "Vehicle:0.14075\n",
      "Speech :0.11503\n",
      "Silence:0.07183\n",
      "Music  :0.06651\n",
      "----------------\n",
      "模範解答 Siren\n",
      "Siren  :0.66297\n",
      "Speech :0.09607\n",
      "Music  :0.06883\n",
      "Vehicle:0.06542\n",
      "Silence:0.05871\n",
      "Wind   :0.04799\n",
      "----------------\n",
      "模範解答 Vehicle\n",
      "Siren  :0.23752\n",
      "Vehicle:0.22960\n",
      "Speech :0.20765\n",
      "Wind   :0.17584\n",
      "Silence:0.07702\n",
      "Music  :0.07237\n",
      "----------------\n",
      "模範解答 Music\n",
      "Wind   :0.37418\n",
      "Speech :0.20102\n",
      "Siren  :0.15105\n",
      "Vehicle:0.13385\n",
      "Silence:0.07698\n",
      "Music  :0.06292\n",
      "----------------\n",
      "模範解答 Vehicle\n",
      "Vehicle:0.43297\n",
      "Siren  :0.17380\n",
      "Speech :0.14106\n",
      "Wind   :0.09394\n",
      "Music  :0.08248\n",
      "Silence:0.07575\n",
      "----------------\n",
      "模範解答 Silence\n",
      "Silence:0.60174\n",
      "Siren  :0.14230\n",
      "Music  :0.07856\n",
      "Wind   :0.06664\n",
      "Speech :0.06059\n",
      "Vehicle:0.05016\n",
      "----------------\n"
     ]
    }
   ],
   "source": [
    "eval(mymodel,dataloader_dict,labels)"
   ]
  },
  {
   "cell_type": "code",
   "execution_count": null,
   "id": "a51cf73f",
   "metadata": {},
   "outputs": [],
   "source": []
  }
 ],
 "metadata": {
  "kernelspec": {
   "display_name": "Python 3",
   "language": "python",
   "name": "python3"
  },
  "language_info": {
   "codemirror_mode": {
    "name": "ipython",
    "version": 3
   },
   "file_extension": ".py",
   "mimetype": "text/x-python",
   "name": "python",
   "nbconvert_exporter": "python",
   "pygments_lexer": "ipython3",
   "version": "3.8.8"
  }
 },
 "nbformat": 4,
 "nbformat_minor": 5
}
