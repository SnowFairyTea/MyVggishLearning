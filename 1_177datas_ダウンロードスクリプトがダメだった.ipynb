{
 "cells": [
  {
   "cell_type": "code",
   "execution_count": 1,
   "id": "5f5293fb",
   "metadata": {},
   "outputs": [
    {
     "name": "stdout",
     "output_type": "stream",
     "text": [
      "vggish/embedding:0\n",
      "vggish/embedding:0\n",
      "Using cuda device\n"
     ]
    }
   ],
   "source": [
    "from mylibs.dataloader_dict import *\n",
    "from mylibs.trainer import *\n",
    "import torch\n",
    "import torch.nn as nn\n",
    "import os\n",
    "import torch.utils.data as data\n",
    "from importlib import import_module\n",
    "import matplotlib.pyplot as plt\n",
    "import torch.optim as optim\n",
    "import copy\n",
    "\n",
    "vggish_input=import_module(\".torchvggish.vggish_input\",\"torchvggish-master_changed\")\n",
    "use_pretrained = True\n",
    "\n",
    "#GPU\n",
    "device = 'cuda' if torch.cuda.is_available() else 'cpu'\n",
    "print('Using {} device'.format(device))"
   ]
  },
  {
   "cell_type": "code",
   "execution_count": 2,
   "id": "b18e2131",
   "metadata": {},
   "outputs": [
    {
     "name": "stdout",
     "output_type": "stream",
     "text": [
      "vggish/embedding:0\n"
     ]
    }
   ],
   "source": [
    "labels=[\"Speech\",\"Music\",\"Car\",\"Siren\",\"Vehicle\",\"Animal\"]\n",
    "mymodel=trainer(_print=False,_lr=0.01,_labels=labels,\n",
    "                _classfilter=nn.Sequential(\n",
    "                            nn.Linear(128,64),\n",
    "                            nn.Dropout(p=0.5),\n",
    "                            nn.Sigmoid(),\n",
    "                            nn.Linear(64,6),\n",
    "                            nn.Softmax(dim=1)\n",
    "                            ) )\n"
   ]
  },
  {
   "cell_type": "code",
   "execution_count": 3,
   "id": "29d30a26",
   "metadata": {},
   "outputs": [
    {
     "name": "stdout",
     "output_type": "stream",
     "text": [
      "C:\\Users\\hase\\git\\MyVggishLearning\\mylibs\\dataloaders ['C:\\\\Users\\\\hase\\\\git\\\\MyVggishLearning\\\\mylibs\\\\dataloaders\\\\evalMusicSilenceSirenSpeechVehicleWind.jb', 'C:\\\\Users\\\\hase\\\\git\\\\MyVggishLearning\\\\mylibs\\\\dataloaders\\\\train177AnimalCarMusicSirenSpeechVehicle.jb', 'C:\\\\Users\\\\hase\\\\git\\\\MyVggishLearning\\\\mylibs\\\\dataloaders\\\\train300AnimalCarDogMusicSirenSpeechVehicleWind.jb', 'C:\\\\Users\\\\hase\\\\git\\\\MyVggishLearning\\\\mylibs\\\\dataloaders\\\\trainMusic100Speech100.jb', 'C:\\\\Users\\\\hase\\\\git\\\\MyVggishLearning\\\\mylibs\\\\dataloaders\\\\trainMusic10Speech10.jb', 'C:\\\\Users\\\\hase\\\\git\\\\MyVggishLearning\\\\mylibs\\\\dataloaders\\\\trainMusicSilenceSirenSpeechVehicle.jb', 'C:\\\\Users\\\\hase\\\\git\\\\MyVggishLearning\\\\mylibs\\\\dataloaders\\\\trainMusicSilenceSirenSpeechVehicleWind.jb', 'C:\\\\Users\\\\hase\\\\git\\\\MyVggishLearning\\\\mylibs\\\\dataloaders\\\\trainMusicSirenSpeechVehicle.jb', 'C:\\\\Users\\\\hase\\\\git\\\\MyVggishLearning\\\\mylibs\\\\dataloaders\\\\trainMusicSpeech.jb']\n",
      "新しく作ります\n",
      "class: Speech\n",
      "train[0]: GetAudiosetSample/result/balanced_train/Speech/--aE2O5G5WE.wav\n",
      "valid[0]: GetAudiosetSample/result/eval/Speech/--aE2O5G5WE.wav\n",
      "class: Music\n",
      "train[0]: GetAudiosetSample/result/balanced_train/Speech/--aE2O5G5WE.wav\n",
      "valid[0]: GetAudiosetSample/result/eval/Speech/--aE2O5G5WE.wav\n",
      "class: Car\n",
      "train[0]: GetAudiosetSample/result/balanced_train/Speech/--aE2O5G5WE.wav\n",
      "valid[0]: GetAudiosetSample/result/eval/Speech/--aE2O5G5WE.wav\n",
      "class: Siren\n",
      "train[0]: GetAudiosetSample/result/balanced_train/Speech/--aE2O5G5WE.wav\n",
      "valid[0]: GetAudiosetSample/result/eval/Speech/--aE2O5G5WE.wav\n",
      "class: Vehicle\n",
      "train[0]: GetAudiosetSample/result/balanced_train/Speech/--aE2O5G5WE.wav\n",
      "valid[0]: GetAudiosetSample/result/eval/Speech/--aE2O5G5WE.wav\n",
      "class: Animal\n",
      "train[0]: GetAudiosetSample/result/balanced_train/Speech/--aE2O5G5WE.wav\n",
      "valid[0]: GetAudiosetSample/result/eval/Speech/--aE2O5G5WE.wav\n",
      "train,valid: 1062 , 846\n",
      "miss!\n",
      "train用データの数：1054\n",
      "valid用データの数：1676\n"
     ]
    }
   ],
   "source": [
    "dataloader_dict=get_dataloader_dict(labels,datatype=\"train_test\",num_data=177)"
   ]
  },
  {
   "cell_type": "code",
   "execution_count": 4,
   "id": "a0afff55",
   "metadata": {},
   "outputs": [
    {
     "ename": "AttributeError",
     "evalue": "'trainer' object has no attribute 'x'",
     "output_type": "error",
     "traceback": [
      "\u001b[1;31m---------------------------------------------------------------------------\u001b[0m",
      "\u001b[1;31mAttributeError\u001b[0m                            Traceback (most recent call last)",
      "\u001b[1;32m<ipython-input-4-a09b0ff49497>\u001b[0m in \u001b[0;36m<module>\u001b[1;34m\u001b[0m\n\u001b[0;32m      1\u001b[0m \u001b[1;31m#mymodel.train(dataloader_dict,_print=True,_num_epochs=50)\u001b[0m\u001b[1;33m\u001b[0m\u001b[1;33m\u001b[0m\u001b[1;33m\u001b[0m\u001b[0m\n\u001b[0;32m      2\u001b[0m \u001b[0mmymodel\u001b[0m\u001b[1;33m.\u001b[0m\u001b[0mloadModel\u001b[0m\u001b[1;33m(\u001b[0m\u001b[0maddname\u001b[0m\u001b[1;33m=\u001b[0m\u001b[1;34m\"1_177datas\"\u001b[0m\u001b[1;33m)\u001b[0m\u001b[1;33m\u001b[0m\u001b[1;33m\u001b[0m\u001b[0m\n\u001b[1;32m----> 3\u001b[1;33m \u001b[0mmymodel\u001b[0m\u001b[1;33m.\u001b[0m\u001b[0mgraph\u001b[0m\u001b[1;33m(\u001b[0m\u001b[1;33m)\u001b[0m\u001b[1;33m\u001b[0m\u001b[1;33m\u001b[0m\u001b[0m\n\u001b[0m\u001b[0;32m      4\u001b[0m \u001b[0mmymodel\u001b[0m\u001b[1;33m.\u001b[0m\u001b[0msaveModel\u001b[0m\u001b[1;33m(\u001b[0m\u001b[0maddname\u001b[0m\u001b[1;33m=\u001b[0m\u001b[1;34m\"1_177datas\"\u001b[0m\u001b[1;33m)\u001b[0m\u001b[1;33m\u001b[0m\u001b[1;33m\u001b[0m\u001b[0m\n",
      "\u001b[1;32m~\\git\\MyVggishLearning\\mylibs\\trainer.py\u001b[0m in \u001b[0;36mgraph\u001b[1;34m(self, _title, acc, loss)\u001b[0m\n\u001b[0;32m    151\u001b[0m     \u001b[1;32mdef\u001b[0m \u001b[0mgraph\u001b[0m\u001b[1;33m(\u001b[0m\u001b[0mself\u001b[0m\u001b[1;33m,\u001b[0m\u001b[0m_title\u001b[0m\u001b[1;33m=\u001b[0m\u001b[1;34m\"\"\u001b[0m\u001b[1;33m,\u001b[0m\u001b[0macc\u001b[0m\u001b[1;33m=\u001b[0m\u001b[1;32mTrue\u001b[0m\u001b[1;33m,\u001b[0m\u001b[0mloss\u001b[0m\u001b[1;33m=\u001b[0m\u001b[1;32mTrue\u001b[0m\u001b[1;33m)\u001b[0m\u001b[1;33m:\u001b[0m\u001b[1;33m\u001b[0m\u001b[1;33m\u001b[0m\u001b[0m\n\u001b[0;32m    152\u001b[0m         \u001b[1;32mif\u001b[0m\u001b[1;33m(\u001b[0m\u001b[0macc\u001b[0m\u001b[1;33m)\u001b[0m\u001b[1;33m:\u001b[0m\u001b[1;33m\u001b[0m\u001b[1;33m\u001b[0m\u001b[0m\n\u001b[1;32m--> 153\u001b[1;33m             \u001b[0mplt\u001b[0m\u001b[1;33m.\u001b[0m\u001b[0mplot\u001b[0m\u001b[1;33m(\u001b[0m\u001b[0mself\u001b[0m\u001b[1;33m.\u001b[0m\u001b[0mx\u001b[0m\u001b[1;33m[\u001b[0m\u001b[1;34m\"train\"\u001b[0m\u001b[1;33m]\u001b[0m\u001b[1;33m,\u001b[0m\u001b[0mself\u001b[0m\u001b[1;33m.\u001b[0m\u001b[0my_acc\u001b[0m\u001b[1;33m[\u001b[0m\u001b[1;34m\"train\"\u001b[0m\u001b[1;33m]\u001b[0m\u001b[1;33m,\u001b[0m \u001b[0mlabel\u001b[0m\u001b[1;33m=\u001b[0m\u001b[1;34m\"train\"\u001b[0m\u001b[1;33m,\u001b[0m \u001b[0mcolor\u001b[0m \u001b[1;33m=\u001b[0m\u001b[1;34m\"Green\"\u001b[0m\u001b[1;33m)\u001b[0m\u001b[1;33m\u001b[0m\u001b[1;33m\u001b[0m\u001b[0m\n\u001b[0m\u001b[0;32m    154\u001b[0m             \u001b[0mplt\u001b[0m\u001b[1;33m.\u001b[0m\u001b[0mplot\u001b[0m\u001b[1;33m(\u001b[0m\u001b[0mself\u001b[0m\u001b[1;33m.\u001b[0m\u001b[0mx\u001b[0m\u001b[1;33m[\u001b[0m\u001b[1;34m\"valid\"\u001b[0m\u001b[1;33m]\u001b[0m\u001b[1;33m,\u001b[0m\u001b[0mself\u001b[0m\u001b[1;33m.\u001b[0m\u001b[0my_acc\u001b[0m\u001b[1;33m[\u001b[0m\u001b[1;34m\"valid\"\u001b[0m\u001b[1;33m]\u001b[0m\u001b[1;33m,\u001b[0m \u001b[0mlabel\u001b[0m\u001b[1;33m=\u001b[0m\u001b[1;34m\"valid\"\u001b[0m\u001b[1;33m,\u001b[0m \u001b[0mcolor\u001b[0m \u001b[1;33m=\u001b[0m\u001b[1;34m\"Blue\"\u001b[0m\u001b[1;33m)\u001b[0m\u001b[1;31m#i.tolist()[i for i in self.y_acc[\"train\"]]\u001b[0m\u001b[1;33m\u001b[0m\u001b[1;33m\u001b[0m\u001b[0m\n\u001b[0;32m    155\u001b[0m             \u001b[0mplt\u001b[0m\u001b[1;33m.\u001b[0m\u001b[0mlegend\u001b[0m\u001b[1;33m(\u001b[0m\u001b[0mloc\u001b[0m\u001b[1;33m=\u001b[0m\u001b[1;34m'upper left'\u001b[0m\u001b[1;33m)\u001b[0m\u001b[1;33m\u001b[0m\u001b[1;33m\u001b[0m\u001b[0m\n",
      "\u001b[1;31mAttributeError\u001b[0m: 'trainer' object has no attribute 'x'"
     ]
    }
   ],
   "source": [
    "#mymodel.train(dataloader_dict,_print=True,_num_epochs=50)\n",
    "mymodel.loadModel(addname=\"1_177datas\")\n",
    "mymodel.graph()\n",
    "mymodel.saveModel(addname=\"1_177datas\")"
   ]
  },
  {
   "cell_type": "code",
   "execution_count": 5,
   "id": "265d2249",
   "metadata": {},
   "outputs": [
    {
     "name": "stdout",
     "output_type": "stream",
     "text": [
      "正解数/入力数:3203/8378\n",
      "正解率:0.382\n",
      "         Speech   Music    Car   Siren  Vehicle  Animal\n",
      "Speech      0.0  1155.0    4.0   119.0     80.0    34.0\n",
      "Music       0.0  1385.0    0.0    13.0      8.0     2.0\n",
      "Car         0.0   391.0  297.0   441.0    256.0    17.0\n",
      "Siren       0.0   329.0   14.0  1006.0     29.0     9.0\n",
      "Vehicle     0.0   346.0  156.0   536.0    355.0     8.0\n",
      "Animal      0.0  1039.0    1.0   165.0     23.0   160.0\n"
     ]
    }
   ],
   "source": [
    "mymodel.eval(dataloader_dict)\n",
    "mymodel.getKondou()\n"
   ]
  },
  {
   "cell_type": "code",
   "execution_count": null,
   "id": "46608190",
   "metadata": {},
   "outputs": [],
   "source": []
  }
 ],
 "metadata": {
  "kernelspec": {
   "display_name": "Python 3",
   "language": "python",
   "name": "python3"
  },
  "language_info": {
   "codemirror_mode": {
    "name": "ipython",
    "version": 3
   },
   "file_extension": ".py",
   "mimetype": "text/x-python",
   "name": "python",
   "nbconvert_exporter": "python",
   "pygments_lexer": "ipython3",
   "version": "3.8.8"
  }
 },
 "nbformat": 4,
 "nbformat_minor": 5
}
