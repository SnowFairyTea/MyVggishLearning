{
 "cells": [
  {
   "cell_type": "code",
   "execution_count": 1,
   "id": "54f8a611",
   "metadata": {
    "scrolled": true
   },
   "outputs": [
    {
     "name": "stdout",
     "output_type": "stream",
     "text": [
      "Using cuda device\n"
     ]
    }
   ],
   "source": [
    "import torch\n",
    "import torch.nn as nn\n",
    "import os\n",
    "#GPU\n",
    "device = 'cuda' if torch.cuda.is_available() else 'cpu'\n",
    "print('Using {} device'.format(device))\n",
    "#損失関数\n",
    "criterion = nn.CrossEntropyLoss()\n"
   ]
  },
  {
   "cell_type": "markdown",
   "id": "d4968bc0",
   "metadata": {},
   "source": [
    "# 今日は試しに学習させてみる\n"
   ]
  },
  {
   "cell_type": "code",
   "execution_count": 2,
   "id": "1398ebcf",
   "metadata": {},
   "outputs": [
    {
     "name": "stdout",
     "output_type": "stream",
     "text": [
      "vggish/embedding:0\n"
     ]
    },
    {
     "data": {
      "text/plain": [
       "'\\n# Download an example audio file\\nimport urllib\\nurl, filename = (\"http://soundbible.com/grab.php?id=1698&type=wav\", \"bus_chatter.wav\")\\ntry: urllib.URLopener().retrieve(url, filename)\\nexcept: urllib.request.urlretrieve(url, filename)\\n\\nmodel.forward(filename)```'"
      ]
     },
     "execution_count": 2,
     "metadata": {},
     "output_type": "execute_result"
    }
   ],
   "source": [
    "model = torch.hub.load('torchvggish-master', 'vggish', source='local').to(device)\n",
    "#harritaylor/\n",
    "model.eval()\n",
    "'''\n",
    "# Download an example audio file\n",
    "import urllib\n",
    "url, filename = (\"http://soundbible.com/grab.php?id=1698&type=wav\", \"bus_chatter.wav\")\n",
    "try: urllib.URLopener().retrieve(url, filename)\n",
    "except: urllib.request.urlretrieve(url, filename)\n",
    "\n",
    "model.forward(filename)```'''"
   ]
  },
  {
   "cell_type": "code",
   "execution_count": 3,
   "id": "c2adcdfe",
   "metadata": {},
   "outputs": [
    {
     "name": "stdout",
     "output_type": "stream",
     "text": [
      "VGGish(\n",
      "  (features): Sequential(\n",
      "    (0): Conv2d(1, 64, kernel_size=(3, 3), stride=(1, 1), padding=(1, 1))\n",
      "    (1): ReLU(inplace=True)\n",
      "    (2): MaxPool2d(kernel_size=2, stride=2, padding=0, dilation=1, ceil_mode=False)\n",
      "    (3): Conv2d(64, 128, kernel_size=(3, 3), stride=(1, 1), padding=(1, 1))\n",
      "    (4): ReLU(inplace=True)\n",
      "    (5): MaxPool2d(kernel_size=2, stride=2, padding=0, dilation=1, ceil_mode=False)\n",
      "    (6): Conv2d(128, 256, kernel_size=(3, 3), stride=(1, 1), padding=(1, 1))\n",
      "    (7): ReLU(inplace=True)\n",
      "    (8): Conv2d(256, 256, kernel_size=(3, 3), stride=(1, 1), padding=(1, 1))\n",
      "    (9): ReLU(inplace=True)\n",
      "    (10): MaxPool2d(kernel_size=2, stride=2, padding=0, dilation=1, ceil_mode=False)\n",
      "    (11): Conv2d(256, 512, kernel_size=(3, 3), stride=(1, 1), padding=(1, 1))\n",
      "    (12): ReLU(inplace=True)\n",
      "    (13): Conv2d(512, 512, kernel_size=(3, 3), stride=(1, 1), padding=(1, 1))\n",
      "    (14): ReLU(inplace=True)\n",
      "    (15): MaxPool2d(kernel_size=2, stride=2, padding=0, dilation=1, ceil_mode=False)\n",
      "  )\n",
      "  (embeddings): Sequential(\n",
      "    (0): Linear(in_features=12288, out_features=4096, bias=True)\n",
      "    (1): ReLU(inplace=True)\n",
      "    (2): Linear(in_features=4096, out_features=4096, bias=True)\n",
      "    (3): ReLU(inplace=True)\n",
      "    (4): Linear(in_features=4096, out_features=128, bias=True)\n",
      "    (5): ReLU(inplace=True)\n",
      "  )\n",
      "  (pproc): Postprocessor()\n",
      ")\n"
     ]
    }
   ],
   "source": [
    "# 学習済みの重みを使用\n",
    "use_pretrained = True\n",
    "\n",
    "# モデルをロード\n",
    "print(model)"
   ]
  },
  {
   "cell_type": "code",
   "execution_count": 4,
   "id": "4b2b9514",
   "metadata": {},
   "outputs": [],
   "source": [
    "#print('変更前 : ', model.embeddings[4])\n",
    "#model.embeddings[4] = nn.Linear(in_features=4096, out_features=5)\n",
    "#print('変更あと : ', model.embeddings[4])"
   ]
  },
  {
   "cell_type": "code",
   "execution_count": 5,
   "id": "fc8efc75",
   "metadata": {},
   "outputs": [
    {
     "name": "stdout",
     "output_type": "stream",
     "text": [
      "VGGish(\n",
      "  (features): Sequential(\n",
      "    (0): Conv2d(1, 64, kernel_size=(3, 3), stride=(1, 1), padding=(1, 1))\n",
      "    (1): ReLU(inplace=True)\n",
      "    (2): MaxPool2d(kernel_size=2, stride=2, padding=0, dilation=1, ceil_mode=False)\n",
      "    (3): Conv2d(64, 128, kernel_size=(3, 3), stride=(1, 1), padding=(1, 1))\n",
      "    (4): ReLU(inplace=True)\n",
      "    (5): MaxPool2d(kernel_size=2, stride=2, padding=0, dilation=1, ceil_mode=False)\n",
      "    (6): Conv2d(128, 256, kernel_size=(3, 3), stride=(1, 1), padding=(1, 1))\n",
      "    (7): ReLU(inplace=True)\n",
      "    (8): Conv2d(256, 256, kernel_size=(3, 3), stride=(1, 1), padding=(1, 1))\n",
      "    (9): ReLU(inplace=True)\n",
      "    (10): MaxPool2d(kernel_size=2, stride=2, padding=0, dilation=1, ceil_mode=False)\n",
      "    (11): Conv2d(256, 512, kernel_size=(3, 3), stride=(1, 1), padding=(1, 1))\n",
      "    (12): ReLU(inplace=True)\n",
      "    (13): Conv2d(512, 512, kernel_size=(3, 3), stride=(1, 1), padding=(1, 1))\n",
      "    (14): ReLU(inplace=True)\n",
      "    (15): MaxPool2d(kernel_size=2, stride=2, padding=0, dilation=1, ceil_mode=False)\n",
      "  )\n",
      "  (embeddings): Sequential(\n",
      "    (0): Linear(in_features=12288, out_features=4096, bias=True)\n",
      "    (1): ReLU(inplace=True)\n",
      "    (2): Linear(in_features=4096, out_features=4096, bias=True)\n",
      "    (3): ReLU(inplace=True)\n",
      "    (4): Linear(in_features=4096, out_features=128, bias=True)\n",
      "    (5): ReLU(inplace=True)\n",
      "  )\n",
      "  (pproc): Postprocessor()\n",
      "  (classfilter): Sequential(\n",
      "    (0): Linear(in_features=128, out_features=5, bias=True)\n",
      "  )\n",
      ")\n"
     ]
    }
   ],
   "source": [
    "model.classfilter=nn.Sequential(\n",
    "    nn.Linear(128, 5)   \n",
    ")\n",
    "print(model)"
   ]
  },
  {
   "cell_type": "code",
   "execution_count": 6,
   "id": "2f4dc622",
   "metadata": {},
   "outputs": [
    {
     "data": {
      "text/plain": [
       "tensor([[158.,  26., 145.,  ..., 205., 127., 255.],\n",
       "        [162.,  37., 151.,  ..., 156.,   0., 255.],\n",
       "        [159.,  30., 144.,  ..., 163., 205., 255.],\n",
       "        ...,\n",
       "        [157.,  38., 150.,  ..., 138., 179., 255.],\n",
       "        [162.,  39., 157.,  ..., 151.,  21., 255.],\n",
       "        [165.,  20., 161.,  ..., 172., 108., 255.]], device='cuda:0',\n",
       "       grad_fn=<SqueezeBackward0>)"
      ]
     },
     "execution_count": 6,
     "metadata": {},
     "output_type": "execute_result"
    }
   ],
   "source": [
    "#試しに実行\n",
    "model.eval()# 評価\n",
    "import urllib\n",
    "url, filename = (\"http://soundbible.com/grab.php?id=1698&type=wav\", \"bus_chatter.wav\")\n",
    "try: urllib.URLopener().retrieve(url, filename)\n",
    "except: urllib.request.urlretrieve(url, filename)\n",
    "model.forward(filename)"
   ]
  },
  {
   "cell_type": "code",
   "execution_count": 14,
   "id": "390d55d1",
   "metadata": {},
   "outputs": [
    {
     "name": "stdout",
     "output_type": "stream",
     "text": [
      "{'train': [['C:/Users/hase/git/youtubedl/result/Speech/--aE2O5G5WE.wav', 0], ['C:/Users/hase/git/youtubedl/result/Speech/--PJHxphWEs.wav', 0], ['C:/Users/hase/git/youtubedl/result/Speech/-30H9V1IKps.wav', 0], ['C:/Users/hase/git/youtubedl/result/Speech/-3IGxVTJvgI.wav', 0], ['C:/Users/hase/git/youtubedl/result/Speech/-5-vmt2iKT0.wav', 0], ['C:/Users/hase/git/youtubedl/result/Speech/-5S70zOSw30.wav', 0], ['C:/Users/hase/git/youtubedl/result/Speech/-5xOcMJpTUk.wav', 0], ['C:/Users/hase/git/youtubedl/result/Speech/-6gC_nlUBfA.wav', 0], ['C:/Users/hase/git/youtubedl/result/Speech/-6RN8skIHU4.wav', 0], ['C:/Users/hase/git/youtubedl/result/Speech/-6x2PtSRfJU.wav', 0], ['C:/Users/hase/git/youtubedl/result/Speech/-8n2NqDFRko.wav', 0], ['C:/Users/hase/git/youtubedl/result/Speech/-8S_tLKfeJg.wav', 0], ['C:/Users/hase/git/youtubedl/result/Speech/-9c1c8G_WO8.wav', 0], ['C:/Users/hase/git/youtubedl/result/Speech/-9Nl3LZBCOo.wav', 0], ['C:/Users/hase/git/youtubedl/result/Speech/-AIrHVeCgtM.wav', 0], ['C:/Users/hase/git/youtubedl/result/Speech/-Ar7D-GARhI.wav', 0], ['C:/Users/hase/git/youtubedl/result/Speech/-AswFDuOptQ.wav', 0], ['C:/Users/hase/git/youtubedl/result/Speech/-BqpAyCLh7U.wav', 0], ['C:/Users/hase/git/youtubedl/result/Speech/-CgdUiJaNdU.wav', 0], ['C:/Users/hase/git/youtubedl/result/Speech/-DLL8LaKq-c.wav', 0], ['C:/Users/hase/git/youtubedl/result/Speech/-DvxsHG1tuo.wav', 0], ['C:/Users/hase/git/youtubedl/result/Speech/-DWRAxaH_RY.wav', 0], ['C:/Users/hase/git/youtubedl/result/Speech/-En5nC5Tka4.wav', 0], ['C:/Users/hase/git/youtubedl/result/Speech/-G3Ph35cTy0.wav', 0], ['C:/Users/hase/git/youtubedl/result/Speech/-H5kC4WsuI8.wav', 0], ['C:/Users/hase/git/youtubedl/result/Speech/-HN5kqCKpEA.wav', 0], ['C:/Users/hase/git/youtubedl/result/Speech/-ItCGHv_9Gs.wav', 0], ['C:/Users/hase/git/youtubedl/result/Speech/-Jam3cjbeFQ.wav', 0], ['C:/Users/hase/git/youtubedl/result/Speech/-JBvPwxaVVg.wav', 0], ['C:/Users/hase/git/youtubedl/result/Speech/-JuVh6islEI.wav', 0], ['C:/Users/hase/git/youtubedl/result/Speech/-KaRoM5LnHc.wav', 0], ['C:/Users/hase/git/youtubedl/result/Speech/-KiAK66YwW8.wav', 0], ['C:/Users/hase/git/youtubedl/result/Wind/-99daJhXYJY.wav', 1], ['C:/Users/hase/git/youtubedl/result/Wind/-JOKwS64mRU.wav', 1], ['C:/Users/hase/git/youtubedl/result/Wind/-tL4aWGx01s.wav', 1], ['C:/Users/hase/git/youtubedl/result/Wind/0xps9c25LqE.wav', 1], ['C:/Users/hase/git/youtubedl/result/Wind/11-d3rWQxZY.wav', 1], ['C:/Users/hase/git/youtubedl/result/Wind/1CouJesdH7M.wav', 1], ['C:/Users/hase/git/youtubedl/result/Wind/1nYZnNEKI6o.wav', 1], ['C:/Users/hase/git/youtubedl/result/Wind/27rCZL5yPU4.wav', 1], ['C:/Users/hase/git/youtubedl/result/Wind/3K4JqHLgq9I.wav', 1], ['C:/Users/hase/git/youtubedl/result/Wind/3ZEzvNaHWPE.wav', 1], ['C:/Users/hase/git/youtubedl/result/Wind/4tQiC9E6Mxc.wav', 1], ['C:/Users/hase/git/youtubedl/result/Wind/5kM5TBYx07g.wav', 1], ['C:/Users/hase/git/youtubedl/result/Wind/6lhRhz7Ki_0.wav', 1], ['C:/Users/hase/git/youtubedl/result/Wind/6qi1KV9MoO0.wav', 1], ['C:/Users/hase/git/youtubedl/result/Wind/7rVjlroRQ64.wav', 1], ['C:/Users/hase/git/youtubedl/result/Wind/8CtGons_X48.wav', 1], ['C:/Users/hase/git/youtubedl/result/Wind/9BkxqopOLQo.wav', 1], ['C:/Users/hase/git/youtubedl/result/Wind/9EzV2FqY2y8.wav', 1], ['C:/Users/hase/git/youtubedl/result/Wind/9oxMZQOS6sE.wav', 1], ['C:/Users/hase/git/youtubedl/result/Wind/9UP7L34-zus.wav', 1], ['C:/Users/hase/git/youtubedl/result/Wind/9W--1bU_zjg.wav', 1], ['C:/Users/hase/git/youtubedl/result/Wind/Aai257FTBiQ.wav', 1], ['C:/Users/hase/git/youtubedl/result/Wind/AeWRWWba3z4.wav', 1], ['C:/Users/hase/git/youtubedl/result/Wind/AJzwtVxRLVU.wav', 1], ['C:/Users/hase/git/youtubedl/result/Wind/AuJ8X3TK3cU.wav', 1], ['C:/Users/hase/git/youtubedl/result/Wind/BbLkppp3QZc.wav', 1], ['C:/Users/hase/git/youtubedl/result/Wind/Bdi9NEo8cDU.wav', 1], ['C:/Users/hase/git/youtubedl/result/Wind/BJVFqd7WYxA.wav', 1], ['C:/Users/hase/git/youtubedl/result/Wind/BmkqueB0Vrs.wav', 1], ['C:/Users/hase/git/youtubedl/result/Wind/BVch9SzTjZw.wav', 1], ['C:/Users/hase/git/youtubedl/result/Wind/By8_wPVT4zg.wav', 1], ['C:/Users/hase/git/youtubedl/result/Wind/CcKeBkOVJIY.wav', 1], ['C:/Users/hase/git/youtubedl/result/Wind/Cl64_nI7A14.wav', 1], ['C:/Users/hase/git/youtubedl/result/Wind/CSfJWw9cM2s.wav', 1], ['C:/Users/hase/git/youtubedl/result/Wind/D7-J_A8zf2k.wav', 1], ['C:/Users/hase/git/youtubedl/result/Animal/-By_0iIghuE.wav', 2], ['C:/Users/hase/git/youtubedl/result/Animal/-efgThyiXWI.wav', 2], ['C:/Users/hase/git/youtubedl/result/Animal/-fnhkx-XXeI.wav', 2], ['C:/Users/hase/git/youtubedl/result/Animal/-hDuDDv0lbQ.wav', 2], ['C:/Users/hase/git/youtubedl/result/Animal/-j3aoa1bEyA.wav', 2], ['C:/Users/hase/git/youtubedl/result/Animal/-qGd1JwYLbQ.wav', 2], ['C:/Users/hase/git/youtubedl/result/Animal/-qJ-NY6wY3s.wav', 2], ['C:/Users/hase/git/youtubedl/result/Animal/-QVqh513RxQ.wav', 2], ['C:/Users/hase/git/youtubedl/result/Animal/-r1H8hBeYmw.wav', 2], ['C:/Users/hase/git/youtubedl/result/Animal/-Ry1YNVPPCM.wav', 2], ['C:/Users/hase/git/youtubedl/result/Animal/-urYwYLrcMA.wav', 2], ['C:/Users/hase/git/youtubedl/result/Animal/-ysNtKG8FlU.wav', 2], ['C:/Users/hase/git/youtubedl/result/Animal/02q5C77_xeQ.wav', 2], ['C:/Users/hase/git/youtubedl/result/Animal/06OT6nqAuLM.wav', 2], ['C:/Users/hase/git/youtubedl/result/Animal/0f2A-lZYAnw.wav', 2], ['C:/Users/hase/git/youtubedl/result/Animal/0h6dpegN0f4.wav', 2], ['C:/Users/hase/git/youtubedl/result/Animal/0JDlM0Wolms.wav', 2], ['C:/Users/hase/git/youtubedl/result/Animal/0jFN112eGVQ.wav', 2], ['C:/Users/hase/git/youtubedl/result/Animal/0kdRxEiEGIs.wav', 2], ['C:/Users/hase/git/youtubedl/result/Animal/0L7-8yqgMEo.wav', 2], ['C:/Users/hase/git/youtubedl/result/Animal/0mkgZLfBqsg.wav', 2], ['C:/Users/hase/git/youtubedl/result/Animal/0NyrNJAXrIo.wav', 2], ['C:/Users/hase/git/youtubedl/result/Animal/0pJwADdUrRo.wav', 2], ['C:/Users/hase/git/youtubedl/result/Animal/0qbp0OtOvl4.wav', 2], ['C:/Users/hase/git/youtubedl/result/Animal/0qri4nnfgQQ.wav', 2], ['C:/Users/hase/git/youtubedl/result/Animal/0qUXJz4HH_E.wav', 2], ['C:/Users/hase/git/youtubedl/result/Animal/0rhb_K228gA.wav', 2], ['C:/Users/hase/git/youtubedl/result/Animal/0SEHGxAQL18.wav', 2], ['C:/Users/hase/git/youtubedl/result/Animal/0X6CXKUbX6g.wav', 2], ['C:/Users/hase/git/youtubedl/result/Animal/0YHK15saav8.wav', 2], ['C:/Users/hase/git/youtubedl/result/Animal/0_utuoBWKmo.wav', 2], ['C:/Users/hase/git/youtubedl/result/Animal/11p3k7duyKc.wav', 2], ['C:/Users/hase/git/youtubedl/result/Music/--aE2O5G5WE.wav', 3], ['C:/Users/hase/git/youtubedl/result/Music/-0DLPzsiXXE.wav', 3], ['C:/Users/hase/git/youtubedl/result/Music/-0SdAVK79lg.wav', 3], ['C:/Users/hase/git/youtubedl/result/Music/-11LhdJgBb8.wav', 3], ['C:/Users/hase/git/youtubedl/result/Music/-1LrH01Ei1w.wav', 3], ['C:/Users/hase/git/youtubedl/result/Music/-3HYdaJyF4U.wav', 3], ['C:/Users/hase/git/youtubedl/result/Music/-4NLarMj4xU.wav', 3], ['C:/Users/hase/git/youtubedl/result/Music/-5f6hjZf9Yw.wav', 3], ['C:/Users/hase/git/youtubedl/result/Music/-5Jlimvsuwo.wav', 3], ['C:/Users/hase/git/youtubedl/result/Music/-5xOcMJpTUk.wav', 3], ['C:/Users/hase/git/youtubedl/result/Music/-693sNKI3iM.wav', 3], ['C:/Users/hase/git/youtubedl/result/Music/-6krAYK2LLo.wav', 3], ['C:/Users/hase/git/youtubedl/result/Music/-6pcgdLfb_A.wav', 3], ['C:/Users/hase/git/youtubedl/result/Music/-70MzkgSsHQ.wav', 3], ['C:/Users/hase/git/youtubedl/result/Music/-7QVE8o9uk4.wav', 3], ['C:/Users/hase/git/youtubedl/result/Music/-7wUQP6G5EQ.wav', 3], ['C:/Users/hase/git/youtubedl/result/Music/-7ye24UFRng.wav', 3], ['C:/Users/hase/git/youtubedl/result/Music/-8fQePz4FcE.wav', 3], ['C:/Users/hase/git/youtubedl/result/Music/-8H4GKg-mYQ.wav', 3], ['C:/Users/hase/git/youtubedl/result/Music/-AswFDuOptQ.wav', 3], ['C:/Users/hase/git/youtubedl/result/Music/-BqpAyCLh7U.wav', 3], ['C:/Users/hase/git/youtubedl/result/Music/-C5dEU4zpJg.wav', 3], ['C:/Users/hase/git/youtubedl/result/Music/-CniGkDLq-Y.wav', 3], ['C:/Users/hase/git/youtubedl/result/Music/-Dj2PfPmynQ.wav', 3], ['C:/Users/hase/git/youtubedl/result/Music/-Dtir74TiUM.wav', 3], ['C:/Users/hase/git/youtubedl/result/Music/-DvxsHG1tuo.wav', 3], ['C:/Users/hase/git/youtubedl/result/Music/-DWRAxaH_RY.wav', 3], ['C:/Users/hase/git/youtubedl/result/Music/-D_ljLTbCK0.wav', 3], ['C:/Users/hase/git/youtubedl/result/Music/-ECK_BisOLM.wav', 3], ['C:/Users/hase/git/youtubedl/result/Music/-EDhb2m8qhk.wav', 3], ['C:/Users/hase/git/youtubedl/result/Music/-ETHxO8vrAg.wav', 3], ['C:/Users/hase/git/youtubedl/result/Speech/--aE2O5G5WE.wav', 4], ['C:/Users/hase/git/youtubedl/result/Speech/--PJHxphWEs.wav', 4], ['C:/Users/hase/git/youtubedl/result/Speech/-30H9V1IKps.wav', 4], ['C:/Users/hase/git/youtubedl/result/Speech/-3IGxVTJvgI.wav', 4], ['C:/Users/hase/git/youtubedl/result/Speech/-5-vmt2iKT0.wav', 4], ['C:/Users/hase/git/youtubedl/result/Speech/-5S70zOSw30.wav', 4], ['C:/Users/hase/git/youtubedl/result/Speech/-5xOcMJpTUk.wav', 4], ['C:/Users/hase/git/youtubedl/result/Speech/-6gC_nlUBfA.wav', 4], ['C:/Users/hase/git/youtubedl/result/Speech/-6RN8skIHU4.wav', 4], ['C:/Users/hase/git/youtubedl/result/Speech/-6x2PtSRfJU.wav', 4], ['C:/Users/hase/git/youtubedl/result/Speech/-8n2NqDFRko.wav', 4], ['C:/Users/hase/git/youtubedl/result/Speech/-8S_tLKfeJg.wav', 4], ['C:/Users/hase/git/youtubedl/result/Speech/-9c1c8G_WO8.wav', 4], ['C:/Users/hase/git/youtubedl/result/Speech/-9Nl3LZBCOo.wav', 4], ['C:/Users/hase/git/youtubedl/result/Speech/-AIrHVeCgtM.wav', 4], ['C:/Users/hase/git/youtubedl/result/Speech/-Ar7D-GARhI.wav', 4], ['C:/Users/hase/git/youtubedl/result/Speech/-AswFDuOptQ.wav', 4], ['C:/Users/hase/git/youtubedl/result/Speech/-BqpAyCLh7U.wav', 4], ['C:/Users/hase/git/youtubedl/result/Speech/-CgdUiJaNdU.wav', 4], ['C:/Users/hase/git/youtubedl/result/Speech/-DLL8LaKq-c.wav', 4], ['C:/Users/hase/git/youtubedl/result/Speech/-DvxsHG1tuo.wav', 4], ['C:/Users/hase/git/youtubedl/result/Speech/-DWRAxaH_RY.wav', 4], ['C:/Users/hase/git/youtubedl/result/Speech/-En5nC5Tka4.wav', 4], ['C:/Users/hase/git/youtubedl/result/Speech/-G3Ph35cTy0.wav', 4], ['C:/Users/hase/git/youtubedl/result/Speech/-H5kC4WsuI8.wav', 4], ['C:/Users/hase/git/youtubedl/result/Speech/-HN5kqCKpEA.wav', 4], ['C:/Users/hase/git/youtubedl/result/Speech/-ItCGHv_9Gs.wav', 4], ['C:/Users/hase/git/youtubedl/result/Speech/-Jam3cjbeFQ.wav', 4], ['C:/Users/hase/git/youtubedl/result/Speech/-JBvPwxaVVg.wav', 4], ['C:/Users/hase/git/youtubedl/result/Speech/-JuVh6islEI.wav', 4], ['C:/Users/hase/git/youtubedl/result/Speech/-KaRoM5LnHc.wav', 4], ['C:/Users/hase/git/youtubedl/result/Speech/-KiAK66YwW8.wav', 4]], 'valid': [['C:/Users/hase/git/youtubedl/result/Speech/-L44JqysUy8.wav', 0], ['C:/Users/hase/git/youtubedl/result/Speech/-L68XDzhn2g.wav', 0], ['C:/Users/hase/git/youtubedl/result/Speech/-LBl0UeKNyU.wav', 0], ['C:/Users/hase/git/youtubedl/result/Speech/-MZx1np1Ddc.wav', 0], ['C:/Users/hase/git/youtubedl/result/Speech/-M_5w6KKfgQ.wav', 0], ['C:/Users/hase/git/youtubedl/result/Speech/-N2reaP4SoI.wav', 0], ['C:/Users/hase/git/youtubedl/result/Speech/-QcXMPUNMeM.wav', 0], ['C:/Users/hase/git/youtubedl/result/Speech/-QE9dqhf_D8.wav', 0], ['C:/Users/hase/git/youtubedl/result/Speech/-QVqh513RxQ.wav', 0], ['C:/Users/hase/git/youtubedl/result/Wind/DsFvp-0mEZA.wav', 1], ['C:/Users/hase/git/youtubedl/result/Wind/E5A5jUE-n2c.wav', 1], ['C:/Users/hase/git/youtubedl/result/Wind/EQoCKPIrT3U.wav', 1], ['C:/Users/hase/git/youtubedl/result/Wind/FCjwziBggHE.wav', 1], ['C:/Users/hase/git/youtubedl/result/Wind/FGSTvZW_toM.wav', 1], ['C:/Users/hase/git/youtubedl/result/Wind/FLgXwU-TviI.wav', 1], ['C:/Users/hase/git/youtubedl/result/Wind/FvX4beQXT9M.wav', 1], ['C:/Users/hase/git/youtubedl/result/Wind/G-f6qIJF8Pk.wav', 1], ['C:/Users/hase/git/youtubedl/result/Wind/GJvWWCx2UuU.wav', 1], ['C:/Users/hase/git/youtubedl/result/Animal/1bOukvpECmU.wav', 2], ['C:/Users/hase/git/youtubedl/result/Animal/1BQW0MFUhL8.wav', 2], ['C:/Users/hase/git/youtubedl/result/Animal/1eI2-vhs0YY.wav', 2], ['C:/Users/hase/git/youtubedl/result/Animal/1EqtrXZjiJY.wav', 2], ['C:/Users/hase/git/youtubedl/result/Animal/1f7lBXwf2rk.wav', 2], ['C:/Users/hase/git/youtubedl/result/Animal/1G3TdBrW7ys.wav', 2], ['C:/Users/hase/git/youtubedl/result/Animal/1G95m_2exAc.wav', 2], ['C:/Users/hase/git/youtubedl/result/Animal/1HPYHsdLYCQ.wav', 2], ['C:/Users/hase/git/youtubedl/result/Animal/1PxKjFulkLs.wav', 2], ['C:/Users/hase/git/youtubedl/result/Music/-FlvaZQOr2I.wav', 3], ['C:/Users/hase/git/youtubedl/result/Music/-G_hnfp4a0M.wav', 3], ['C:/Users/hase/git/youtubedl/result/Music/-HlS6jz-f0I.wav', 3], ['C:/Users/hase/git/youtubedl/result/Music/-HN5kqCKpEA.wav', 3], ['C:/Users/hase/git/youtubedl/result/Music/-HnNrGtKXp4.wav', 3], ['C:/Users/hase/git/youtubedl/result/Music/-J0H5ah1G7A.wav', 3], ['C:/Users/hase/git/youtubedl/result/Music/-JBvPwxaVVg.wav', 3], ['C:/Users/hase/git/youtubedl/result/Music/-LB1RoVe8Xc.wav', 3], ['C:/Users/hase/git/youtubedl/result/Speech/-L44JqysUy8.wav', 4], ['C:/Users/hase/git/youtubedl/result/Speech/-L68XDzhn2g.wav', 4], ['C:/Users/hase/git/youtubedl/result/Speech/-LBl0UeKNyU.wav', 4], ['C:/Users/hase/git/youtubedl/result/Speech/-MZx1np1Ddc.wav', 4], ['C:/Users/hase/git/youtubedl/result/Speech/-M_5w6KKfgQ.wav', 4], ['C:/Users/hase/git/youtubedl/result/Speech/-N2reaP4SoI.wav', 4], ['C:/Users/hase/git/youtubedl/result/Speech/-QcXMPUNMeM.wav', 4], ['C:/Users/hase/git/youtubedl/result/Speech/-QE9dqhf_D8.wav', 4], ['C:/Users/hase/git/youtubedl/result/Speech/-QVqh513RxQ.wav', 4]]}\n",
      "学習データ数 :  162\n",
      "[['C:/Users/hase/git/youtubedl/result/Speech/--aE2O5G5WE.wav', 0], ['C:/Users/hase/git/youtubedl/result/Speech/--PJHxphWEs.wav', 0], ['C:/Users/hase/git/youtubedl/result/Speech/-30H9V1IKps.wav', 0]]\n",
      "検証データ数 :  44\n",
      "[['C:/Users/hase/git/youtubedl/result/Speech/-L44JqysUy8.wav', 0], ['C:/Users/hase/git/youtubedl/result/Speech/-L68XDzhn2g.wav', 0], ['C:/Users/hase/git/youtubedl/result/Speech/-LBl0UeKNyU.wav', 0]]\n"
     ]
    }
   ],
   "source": [
    "#データセットの定義？\n",
    "classes=[\"Speech\",\"Wind\",\"Animal\",\"Music\",\"Speech\"]\n",
    "dataset_dir=\"C:/Users/hase/git/youtubedl/result\"\n",
    "\n",
    "\n",
    "def make_path_list():\n",
    "    train_file_list=[]\n",
    "    valid_file_list=[]\n",
    "    for i in range(len(classes)):\n",
    "        dir_name=os.path.join(dataset_dir,classes[i]).replace(\"\\\\\",\"/\")\n",
    "        file_list=os.listdir(dir_name)\n",
    "        \n",
    "        #8割を学習用、残りを検証用にする\n",
    "        num_data = len(file_list)\n",
    "        num_split = int(num_data*0.8)\n",
    "        \n",
    "        train_file_list += [[os.path.join(dir_name, file).replace('\\\\', '/'), i] for file in file_list[:num_split] ]\n",
    "        valid_file_list += [[os.path.join(dir_name, file).replace('\\\\', '/'), i] for file in file_list[num_split:]]\n",
    "    return {\"train\":train_file_list,\"valid\":valid_file_list}\n",
    "# 画像データへのファイルパスを格納したリストを取得する\n",
    "data_dict = make_path_list()\n",
    "## リストが変かもなのでみてみる\n",
    "\n",
    "\n",
    "print('学習データ数 : ', len(data_dict[\"train\"]))\n",
    "# 先頭3件だけ表示\n",
    "print(data_dict[\"train\"][:3])\n",
    "\n",
    "print('検証データ数 : ', len(data_dict[\"valid\"]))\n",
    "# 先頭3件だけ表示\n",
    "print(data_dict[\"valid\"][:3])"
   ]
  },
  {
   "cell_type": "code",
   "execution_count": null,
   "id": "94164bce",
   "metadata": {},
   "outputs": [],
   "source": [
    "#0830\n",
    "#DataSet型を作る必要がある気がする\n",
    "class MyDataset(data.Dataset):\n",
    "    def __init__(self, file_list, labels, phase='train'):\n",
    "        self.file_list = file_list\n",
    "        self.labels =　labels\n",
    "        self.phase = phase\n",
    "        \n",
    "    def __len__(self):\n",
    "        return len(self.file_list)\n",
    "    \n",
    "    def __getitem__():\n",
    "        \n",
    "        wav_path = self.file_list[index]"
   ]
  },
  {
   "cell_type": "code",
   "execution_count": 8,
   "id": "2b54849d",
   "metadata": {},
   "outputs": [
    {
     "name": "stdout",
     "output_type": "stream",
     "text": [
      "name :  features.0.weight\n",
      "name :  features.0.bias\n",
      "name :  features.3.weight\n",
      "name :  features.3.bias\n",
      "name :  features.6.weight\n",
      "name :  features.6.bias\n",
      "name :  features.8.weight\n",
      "name :  features.8.bias\n",
      "name :  features.11.weight\n",
      "name :  features.11.bias\n",
      "name :  features.13.weight\n",
      "name :  features.13.bias\n",
      "name :  embeddings.0.weight\n",
      "name :  embeddings.0.bias\n",
      "name :  embeddings.2.weight\n",
      "name :  embeddings.2.bias\n",
      "name :  embeddings.4.weight\n",
      "name :  embeddings.4.bias\n",
      "name :  pproc.pca_eigen_vectors\n",
      "name :  pproc.pca_means\n",
      "name :  classfilter.0.weight\n",
      "name :  classfilter.0.bias\n"
     ]
    }
   ],
   "source": [
    "# パラメータ名の確認\n",
    "for name, param in model.named_parameters():\n",
    "    print('name : ', name)"
   ]
  },
  {
   "cell_type": "code",
   "execution_count": 9,
   "id": "b35bef57",
   "metadata": {},
   "outputs": [
    {
     "name": "stdout",
     "output_type": "stream",
     "text": [
      "name :  classfilter.0.weight\n",
      "name :  classfilter.0.bias\n"
     ]
    }
   ],
   "source": [
    "#学習させるパラメータを格納\n",
    "params_to_update=[]\n",
    "#学習させるパラメータ名\n",
    "update_param_names=[\"classfilter.0.weight\", \"classfilter.0.bias\"]\n",
    "\n",
    "#対象以外は購買計算をせず、変化しないようにもする\n",
    "for name,param in model.named_parameters():\n",
    "    if name in update_param_names:\n",
    "        param.requires_grad = True\n",
    "        params_to_update.append(param)\n",
    "        print(\"name : \",name)\n",
    "    else:\n",
    "        param.requires_grad = False\n"
   ]
  },
  {
   "cell_type": "code",
   "execution_count": 10,
   "id": "80179db1",
   "metadata": {},
   "outputs": [],
   "source": [
    "import torch.optim as optim\n",
    "optimizer = optim.SGD(params_to_update, lr=0.01)"
   ]
  },
  {
   "cell_type": "code",
   "execution_count": 13,
   "id": "d7e9128b",
   "metadata": {},
   "outputs": [
    {
     "name": "stdout",
     "output_type": "stream",
     "text": [
      "Epoch 1/2\n",
      "C:/Users/hase/git/youtubedl/result/Speech/--aE2O5G5WE.wav 0\n",
      "tensor([[169.,  26., 170.,  ..., 124., 198., 255.],\n",
      "        [171.,  22., 140.,  ..., 234., 161., 255.],\n",
      "        [170.,  21., 157.,  ..., 161., 101., 255.],\n",
      "        ...,\n",
      "        [151.,  18., 158.,  ...,  94., 188., 255.],\n",
      "        [150.,  12., 167.,  ...,  30., 221., 255.],\n",
      "        [161.,  10., 170.,  ..., 109.,  77., 255.]], device='cuda:0',\n",
      "       grad_fn=<SqueezeBackward0>)\n",
      "0\n"
     ]
    },
    {
     "ename": "AttributeError",
     "evalue": "'int' object has no attribute 'size'",
     "output_type": "error",
     "traceback": [
      "\u001b[1;31m---------------------------------------------------------------------------\u001b[0m",
      "\u001b[1;31mAttributeError\u001b[0m                            Traceback (most recent call last)",
      "\u001b[1;32m<ipython-input-13-77b480f13353>\u001b[0m in \u001b[0;36m<module>\u001b[1;34m\u001b[0m\n\u001b[0;32m     27\u001b[0m                 \u001b[0mprint\u001b[0m\u001b[1;33m(\u001b[0m\u001b[0moutputs\u001b[0m\u001b[1;33m)\u001b[0m\u001b[1;33m\u001b[0m\u001b[1;33m\u001b[0m\u001b[0m\n\u001b[0;32m     28\u001b[0m                 \u001b[0mprint\u001b[0m\u001b[1;33m(\u001b[0m\u001b[0mlabels\u001b[0m\u001b[1;33m)\u001b[0m\u001b[1;33m\u001b[0m\u001b[1;33m\u001b[0m\u001b[0m\n\u001b[1;32m---> 29\u001b[1;33m                 \u001b[0mloss\u001b[0m\u001b[1;33m=\u001b[0m\u001b[0mcriterion\u001b[0m\u001b[1;33m(\u001b[0m\u001b[0moutputs\u001b[0m\u001b[1;33m,\u001b[0m \u001b[0mlabels\u001b[0m\u001b[1;33m)\u001b[0m\u001b[1;33m\u001b[0m\u001b[1;33m\u001b[0m\u001b[0m\n\u001b[0m\u001b[0;32m     30\u001b[0m \u001b[1;33m\u001b[0m\u001b[0m\n\u001b[0;32m     31\u001b[0m                 \u001b[1;31m#ラベルを予測\u001b[0m\u001b[1;33m\u001b[0m\u001b[1;33m\u001b[0m\u001b[1;33m\u001b[0m\u001b[0m\n",
      "\u001b[1;32m~\\anaconda3\\lib\\site-packages\\torch\\nn\\modules\\module.py\u001b[0m in \u001b[0;36m_call_impl\u001b[1;34m(self, *input, **kwargs)\u001b[0m\n\u001b[0;32m    887\u001b[0m             \u001b[0mresult\u001b[0m \u001b[1;33m=\u001b[0m \u001b[0mself\u001b[0m\u001b[1;33m.\u001b[0m\u001b[0m_slow_forward\u001b[0m\u001b[1;33m(\u001b[0m\u001b[1;33m*\u001b[0m\u001b[0minput\u001b[0m\u001b[1;33m,\u001b[0m \u001b[1;33m**\u001b[0m\u001b[0mkwargs\u001b[0m\u001b[1;33m)\u001b[0m\u001b[1;33m\u001b[0m\u001b[1;33m\u001b[0m\u001b[0m\n\u001b[0;32m    888\u001b[0m         \u001b[1;32melse\u001b[0m\u001b[1;33m:\u001b[0m\u001b[1;33m\u001b[0m\u001b[1;33m\u001b[0m\u001b[0m\n\u001b[1;32m--> 889\u001b[1;33m             \u001b[0mresult\u001b[0m \u001b[1;33m=\u001b[0m \u001b[0mself\u001b[0m\u001b[1;33m.\u001b[0m\u001b[0mforward\u001b[0m\u001b[1;33m(\u001b[0m\u001b[1;33m*\u001b[0m\u001b[0minput\u001b[0m\u001b[1;33m,\u001b[0m \u001b[1;33m**\u001b[0m\u001b[0mkwargs\u001b[0m\u001b[1;33m)\u001b[0m\u001b[1;33m\u001b[0m\u001b[1;33m\u001b[0m\u001b[0m\n\u001b[0m\u001b[0;32m    890\u001b[0m         for hook in itertools.chain(\n\u001b[0;32m    891\u001b[0m                 \u001b[0m_global_forward_hooks\u001b[0m\u001b[1;33m.\u001b[0m\u001b[0mvalues\u001b[0m\u001b[1;33m(\u001b[0m\u001b[1;33m)\u001b[0m\u001b[1;33m,\u001b[0m\u001b[1;33m\u001b[0m\u001b[1;33m\u001b[0m\u001b[0m\n",
      "\u001b[1;32m~\\anaconda3\\lib\\site-packages\\torch\\nn\\modules\\loss.py\u001b[0m in \u001b[0;36mforward\u001b[1;34m(self, input, target)\u001b[0m\n\u001b[0;32m   1045\u001b[0m     \u001b[1;32mdef\u001b[0m \u001b[0mforward\u001b[0m\u001b[1;33m(\u001b[0m\u001b[0mself\u001b[0m\u001b[1;33m,\u001b[0m \u001b[0minput\u001b[0m\u001b[1;33m:\u001b[0m \u001b[0mTensor\u001b[0m\u001b[1;33m,\u001b[0m \u001b[0mtarget\u001b[0m\u001b[1;33m:\u001b[0m \u001b[0mTensor\u001b[0m\u001b[1;33m)\u001b[0m \u001b[1;33m->\u001b[0m \u001b[0mTensor\u001b[0m\u001b[1;33m:\u001b[0m\u001b[1;33m\u001b[0m\u001b[1;33m\u001b[0m\u001b[0m\n\u001b[0;32m   1046\u001b[0m         \u001b[1;32massert\u001b[0m \u001b[0mself\u001b[0m\u001b[1;33m.\u001b[0m\u001b[0mweight\u001b[0m \u001b[1;32mis\u001b[0m \u001b[1;32mNone\u001b[0m \u001b[1;32mor\u001b[0m \u001b[0misinstance\u001b[0m\u001b[1;33m(\u001b[0m\u001b[0mself\u001b[0m\u001b[1;33m.\u001b[0m\u001b[0mweight\u001b[0m\u001b[1;33m,\u001b[0m \u001b[0mTensor\u001b[0m\u001b[1;33m)\u001b[0m\u001b[1;33m\u001b[0m\u001b[1;33m\u001b[0m\u001b[0m\n\u001b[1;32m-> 1047\u001b[1;33m         return F.cross_entropy(input, target, weight=self.weight,\n\u001b[0m\u001b[0;32m   1048\u001b[0m                                ignore_index=self.ignore_index, reduction=self.reduction)\n\u001b[0;32m   1049\u001b[0m \u001b[1;33m\u001b[0m\u001b[0m\n",
      "\u001b[1;32m~\\anaconda3\\lib\\site-packages\\torch\\nn\\functional.py\u001b[0m in \u001b[0;36mcross_entropy\u001b[1;34m(input, target, weight, size_average, ignore_index, reduce, reduction)\u001b[0m\n\u001b[0;32m   2691\u001b[0m     \u001b[1;32mif\u001b[0m \u001b[0msize_average\u001b[0m \u001b[1;32mis\u001b[0m \u001b[1;32mnot\u001b[0m \u001b[1;32mNone\u001b[0m \u001b[1;32mor\u001b[0m \u001b[0mreduce\u001b[0m \u001b[1;32mis\u001b[0m \u001b[1;32mnot\u001b[0m \u001b[1;32mNone\u001b[0m\u001b[1;33m:\u001b[0m\u001b[1;33m\u001b[0m\u001b[1;33m\u001b[0m\u001b[0m\n\u001b[0;32m   2692\u001b[0m         \u001b[0mreduction\u001b[0m \u001b[1;33m=\u001b[0m \u001b[0m_Reduction\u001b[0m\u001b[1;33m.\u001b[0m\u001b[0mlegacy_get_string\u001b[0m\u001b[1;33m(\u001b[0m\u001b[0msize_average\u001b[0m\u001b[1;33m,\u001b[0m \u001b[0mreduce\u001b[0m\u001b[1;33m)\u001b[0m\u001b[1;33m\u001b[0m\u001b[1;33m\u001b[0m\u001b[0m\n\u001b[1;32m-> 2693\u001b[1;33m     \u001b[1;32mreturn\u001b[0m \u001b[0mnll_loss\u001b[0m\u001b[1;33m(\u001b[0m\u001b[0mlog_softmax\u001b[0m\u001b[1;33m(\u001b[0m\u001b[0minput\u001b[0m\u001b[1;33m,\u001b[0m \u001b[1;36m1\u001b[0m\u001b[1;33m)\u001b[0m\u001b[1;33m,\u001b[0m \u001b[0mtarget\u001b[0m\u001b[1;33m,\u001b[0m \u001b[0mweight\u001b[0m\u001b[1;33m,\u001b[0m \u001b[1;32mNone\u001b[0m\u001b[1;33m,\u001b[0m \u001b[0mignore_index\u001b[0m\u001b[1;33m,\u001b[0m \u001b[1;32mNone\u001b[0m\u001b[1;33m,\u001b[0m \u001b[0mreduction\u001b[0m\u001b[1;33m)\u001b[0m\u001b[1;33m\u001b[0m\u001b[1;33m\u001b[0m\u001b[0m\n\u001b[0m\u001b[0;32m   2694\u001b[0m \u001b[1;33m\u001b[0m\u001b[0m\n\u001b[0;32m   2695\u001b[0m \u001b[1;33m\u001b[0m\u001b[0m\n",
      "\u001b[1;32m~\\anaconda3\\lib\\site-packages\\torch\\nn\\functional.py\u001b[0m in \u001b[0;36mnll_loss\u001b[1;34m(input, target, weight, size_average, ignore_index, reduce, reduction)\u001b[0m\n\u001b[0;32m   2381\u001b[0m         \u001b[1;32mraise\u001b[0m \u001b[0mValueError\u001b[0m\u001b[1;33m(\u001b[0m\u001b[1;34m\"Expected 2 or more dimensions (got {})\"\u001b[0m\u001b[1;33m.\u001b[0m\u001b[0mformat\u001b[0m\u001b[1;33m(\u001b[0m\u001b[0mdim\u001b[0m\u001b[1;33m)\u001b[0m\u001b[1;33m)\u001b[0m\u001b[1;33m\u001b[0m\u001b[1;33m\u001b[0m\u001b[0m\n\u001b[0;32m   2382\u001b[0m \u001b[1;33m\u001b[0m\u001b[0m\n\u001b[1;32m-> 2383\u001b[1;33m     \u001b[1;32mif\u001b[0m \u001b[0minput\u001b[0m\u001b[1;33m.\u001b[0m\u001b[0msize\u001b[0m\u001b[1;33m(\u001b[0m\u001b[1;36m0\u001b[0m\u001b[1;33m)\u001b[0m \u001b[1;33m!=\u001b[0m \u001b[0mtarget\u001b[0m\u001b[1;33m.\u001b[0m\u001b[0msize\u001b[0m\u001b[1;33m(\u001b[0m\u001b[1;36m0\u001b[0m\u001b[1;33m)\u001b[0m\u001b[1;33m:\u001b[0m\u001b[1;33m\u001b[0m\u001b[1;33m\u001b[0m\u001b[0m\n\u001b[0m\u001b[0;32m   2384\u001b[0m         raise ValueError(\n\u001b[0;32m   2385\u001b[0m             \u001b[1;34m\"Expected input batch_size ({}) to match target batch_size ({}).\"\u001b[0m\u001b[1;33m.\u001b[0m\u001b[0mformat\u001b[0m\u001b[1;33m(\u001b[0m\u001b[0minput\u001b[0m\u001b[1;33m.\u001b[0m\u001b[0msize\u001b[0m\u001b[1;33m(\u001b[0m\u001b[1;36m0\u001b[0m\u001b[1;33m)\u001b[0m\u001b[1;33m,\u001b[0m \u001b[0mtarget\u001b[0m\u001b[1;33m.\u001b[0m\u001b[0msize\u001b[0m\u001b[1;33m(\u001b[0m\u001b[1;36m0\u001b[0m\u001b[1;33m)\u001b[0m\u001b[1;33m)\u001b[0m\u001b[1;33m\u001b[0m\u001b[1;33m\u001b[0m\u001b[0m\n",
      "\u001b[1;31mAttributeError\u001b[0m: 'int' object has no attribute 'size'"
     ]
    }
   ],
   "source": [
    "#エポック数\n",
    "num_epochs=2\n",
    "\n",
    "for epoch in range(num_epochs):\n",
    "    print('Epoch {}/{}'.format(epoch+1,num_epochs))\n",
    "    \n",
    "    for phase in ['train','valid']:\n",
    "        if phase == 'train':\n",
    "            model.train()#学習モード\n",
    "        else:\n",
    "            model.eval()#検証？\n",
    "    \n",
    "        #epoch全体の損失の輪と正解数\n",
    "        epoch_loss=0.0\n",
    "        epoch_corrects=0\n",
    "        \n",
    "        for inputs, labels in data_dict[phase]:\n",
    "            print(inputs,labels)\n",
    "            #optimizer?を初期化?する?\n",
    "            optimizer.zero_grad()\n",
    "            \n",
    "            with torch.set_grad_enabled(phase=='train'):\n",
    "                outputs=model(inputs)\n",
    "                \n",
    "                #損失を計算\n",
    "                #ここでエラーAttributeError: 'int' object has no attribute 'size'\n",
    "                print(outputs)#二次元tensor配列\n",
    "                print(labels)#0\n",
    "                loss=criterion(outputs, labels)\n",
    "                \n",
    "                #ラベルを予測\n",
    "                _,preds = torch.max(outputs,1)\n",
    "                \n",
    "                #訓練時は逆伝搬の計算\n",
    "                if phase == \"train\":\n",
    "                    #逆伝搬\n",
    "                    loss.backward()\n",
    "                    \n",
    "                    #パラメータ更新\n",
    "                    optimizer.step()\n",
    "                \n",
    "                #イテレーション結果の計算\n",
    "                #lossの合計を更新\n",
    "                #pytorchの使用上バッチ内の平均lossが計算されているのでデータ数をかけて合計にする\n",
    "                #損失和を「全データの損失/データ数」で求めるために必要らしい?\n",
    "                epoch_loss += loss.item()*inpiuts.size(0)\n",
    "                \n",
    "                #正解数の合計を更新\n",
    "                epoch_corrects += torch.sum(preds == labels.data)\n",
    "        #epochのlossと正解数の表示\n",
    "        epoch_loss=epoch_loss/len(data_dict[phase])\n",
    "        epoch_acc=epoch_corrects.double()/len(data_dict[phase].dataset)\n",
    "        print('{} Loss: {:.4f} Acc: {:.4f}'.format(phase, epoch_loss, epoch_acc))\n",
    "    "
   ]
  },
  {
   "cell_type": "code",
   "execution_count": null,
   "id": "fc1b076f",
   "metadata": {},
   "outputs": [],
   "source": []
  },
  {
   "cell_type": "code",
   "execution_count": null,
   "id": "bf0db113",
   "metadata": {},
   "outputs": [],
   "source": []
  },
  {
   "cell_type": "code",
   "execution_count": null,
   "id": "e8a1e93e",
   "metadata": {},
   "outputs": [],
   "source": []
  }
 ],
 "metadata": {
  "kernelspec": {
   "display_name": "Python 3",
   "language": "python",
   "name": "python3"
  },
  "language_info": {
   "codemirror_mode": {
    "name": "ipython",
    "version": 3
   },
   "file_extension": ".py",
   "mimetype": "text/x-python",
   "name": "python",
   "nbconvert_exporter": "python",
   "pygments_lexer": "ipython3",
   "version": "3.8.8"
  }
 },
 "nbformat": 4,
 "nbformat_minor": 5
}
