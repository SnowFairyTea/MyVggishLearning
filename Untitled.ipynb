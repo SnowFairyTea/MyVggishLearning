{
 "cells": [
  {
   "cell_type": "code",
   "execution_count": 1,
   "id": "644fc9e1",
   "metadata": {},
   "outputs": [
    {
     "name": "stdout",
     "output_type": "stream",
     "text": [
      "vggish/embedding:0\n"
     ]
    },
    {
     "ename": "SyntaxError",
     "evalue": "invalid syntax (trainer.py, line 185)",
     "output_type": "error",
     "traceback": [
      "Traceback \u001b[1;36m(most recent call last)\u001b[0m:\n",
      "  File \u001b[0;32m\"C:\\Users\\hase\\anaconda3\\lib\\site-packages\\IPython\\core\\interactiveshell.py\"\u001b[0m, line \u001b[0;32m3437\u001b[0m, in \u001b[0;35mrun_code\u001b[0m\n    exec(code_obj, self.user_global_ns, self.user_ns)\n",
      "\u001b[1;36m  File \u001b[1;32m\"<ipython-input-1-0575de5bcb82>\"\u001b[1;36m, line \u001b[1;32m2\u001b[1;36m, in \u001b[1;35m<module>\u001b[1;36m\u001b[0m\n\u001b[1;33m    from mylibs.trainer import *\u001b[0m\n",
      "\u001b[1;36m  File \u001b[1;32m\"C:\\Users\\hase\\git\\MyVggishLearning\\mylibs\\trainer.py\"\u001b[1;36m, line \u001b[1;32m185\u001b[0m\n\u001b[1;33m    elif (mode==\"1\"or mode==\"kakuritu\"):\u001b[0m\n\u001b[1;37m    ^\u001b[0m\n\u001b[1;31mSyntaxError\u001b[0m\u001b[1;31m:\u001b[0m invalid syntax\n"
     ]
    }
   ],
   "source": [
    "from mylibs.dataloader_dict import *\n",
    "from mylibs.trainer import *\n",
    "import torch\n",
    "import torch.nn as nn\n",
    "import os\n",
    "import torch.utils.data as data\n",
    "from importlib import import_module\n",
    "import matplotlib.pyplot as plt\n",
    "import torch.optim as optim\n",
    "import copy\n",
    "\n",
    "vggish_input=import_module(\".torchvggish.vggish_input\",\"torchvggish-master_changed\")\n",
    "use_pretrained = True\n",
    "\n",
    "#GPU\n",
    "device = 'cuda' if torch.cuda.is_available() else 'cpu'\n",
    "print('Using {} device'.format(device))\n",
    "labels=[\"Speech\",\"Music\",\"Silence\",\"Siren\",\"Vehicle\",\"Wind\"]"
   ]
  },
  {
   "cell_type": "code",
   "execution_count": null,
   "id": "d2be34d8",
   "metadata": {},
   "outputs": [],
   "source": []
  }
 ],
 "metadata": {
  "kernelspec": {
   "display_name": "Python 3",
   "language": "python",
   "name": "python3"
  },
  "language_info": {
   "codemirror_mode": {
    "name": "ipython",
    "version": 3
   },
   "file_extension": ".py",
   "mimetype": "text/x-python",
   "name": "python",
   "nbconvert_exporter": "python",
   "pygments_lexer": "ipython3",
   "version": "3.8.8"
  }
 },
 "nbformat": 4,
 "nbformat_minor": 5
}
