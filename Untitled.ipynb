{
 "cells": [
  {
   "cell_type": "code",
   "execution_count": 1,
   "id": "b35f320d",
   "metadata": {},
   "outputs": [
    {
     "name": "stdout",
     "output_type": "stream",
     "text": [
      "vggish/embedding:0\n",
      "vggish/embedding:0\n",
      "Using cuda device\n"
     ]
    }
   ],
   "source": [
    "from mylibs.dataloader_dict import *\n",
    "from mylibs.trainer import *\n",
    "import torch\n",
    "import torch.nn as nn\n",
    "import os\n",
    "import torch.utils.data as data\n",
    "from importlib import import_module\n",
    "import matplotlib.pyplot as plt\n",
    "import torch.optim as optim\n",
    "import copy\n",
    "\n",
    "vggish_input=import_module(\".torchvggish.vggish_input\",\"torchvggish-master_changed\")\n",
    "use_pretrained = True\n",
    "\n",
    "#GPU\n",
    "device = 'cuda' if torch.cuda.is_available() else 'cpu'\n",
    "print('Using {} device'.format(device))"
   ]
  },
  {
   "cell_type": "code",
   "execution_count": 2,
   "id": "0b8a872c",
   "metadata": {},
   "outputs": [
    {
     "name": "stdout",
     "output_type": "stream",
     "text": [
      "vggish/embedding:0\n"
     ]
    }
   ],
   "source": [
    "labels=[\"Speech\",\"Music\",\"Car\",\"Siren\",\"Vehicle\",\"Animal\"]\n",
    "mymodel=trainer(_print=False,_lr=0.01,_labels=labels,\n",
    "                _classfilter=nn.Sequential(\n",
    "                            nn.Linear(128,64),\n",
    "                            nn.Dropout(p=0.5),\n",
    "                            nn.Sigmoid(),\n",
    "                            nn.Linear(64,6),\n",
    "                            nn.Softmax(dim=1)\n",
    "                            ) )\n"
   ]
  },
  {
   "cell_type": "code",
   "execution_count": 3,
   "id": "fda1d87f",
   "metadata": {},
   "outputs": [
    {
     "name": "stdout",
     "output_type": "stream",
     "text": [
      "C:\\Users\\hase\\git\\MyVggishLearning\\mylibs\\dataloaders ['C:\\\\Users\\\\hase\\\\git\\\\MyVggishLearning\\\\mylibs\\\\dataloaders\\\\evalMusicSilenceSirenSpeechVehicleWind.jb', 'C:\\\\Users\\\\hase\\\\git\\\\MyVggishLearning\\\\mylibs\\\\dataloaders\\\\train177AnimalCarMusicSirenSpeechVehicle.jb', 'C:\\\\Users\\\\hase\\\\git\\\\MyVggishLearning\\\\mylibs\\\\dataloaders\\\\train300AnimalCarDogMusicSirenSpeechVehicleWind.jb', 'C:\\\\Users\\\\hase\\\\git\\\\MyVggishLearning\\\\mylibs\\\\dataloaders\\\\trainMusic100Speech100.jb', 'C:\\\\Users\\\\hase\\\\git\\\\MyVggishLearning\\\\mylibs\\\\dataloaders\\\\trainMusic10Speech10.jb', 'C:\\\\Users\\\\hase\\\\git\\\\MyVggishLearning\\\\mylibs\\\\dataloaders\\\\trainMusicSilenceSirenSpeechVehicle.jb', 'C:\\\\Users\\\\hase\\\\git\\\\MyVggishLearning\\\\mylibs\\\\dataloaders\\\\trainMusicSilenceSirenSpeechVehicleWind.jb', 'C:\\\\Users\\\\hase\\\\git\\\\MyVggishLearning\\\\mylibs\\\\dataloaders\\\\trainMusicSirenSpeechVehicle.jb', 'C:\\\\Users\\\\hase\\\\git\\\\MyVggishLearning\\\\mylibs\\\\dataloaders\\\\trainMusicSpeech.jb', 'C:\\\\Users\\\\hase\\\\git\\\\MyVggishLearning\\\\mylibs\\\\dataloaders\\\\train_test177AnimalCarMusicSirenSpeechVehicle.jb']\n",
      "新しく作ります\n",
      "class: Speech\n",
      "train[0]: GetAudiosetSample/result/balanced_train/Speech/--aE2O5G5WE.wav\n",
      "valid[0]: GetAudiosetSample/result/eval/Speech/--aE2O5G5WE.wav\n",
      "class: Music\n",
      "train[0]: GetAudiosetSample/result/balanced_train/Speech/--aE2O5G5WE.wav\n",
      "valid[0]: GetAudiosetSample/result/eval/Speech/--aE2O5G5WE.wav\n",
      "class: Car\n",
      "train[0]: GetAudiosetSample/result/balanced_train/Speech/--aE2O5G5WE.wav\n",
      "valid[0]: GetAudiosetSample/result/eval/Speech/--aE2O5G5WE.wav\n",
      "class: Siren\n",
      "train[0]: GetAudiosetSample/result/balanced_train/Speech/--aE2O5G5WE.wav\n",
      "valid[0]: GetAudiosetSample/result/eval/Speech/--aE2O5G5WE.wav\n",
      "class: Vehicle\n",
      "train[0]: GetAudiosetSample/result/balanced_train/Speech/--aE2O5G5WE.wav\n",
      "valid[0]: GetAudiosetSample/result/eval/Speech/--aE2O5G5WE.wav\n",
      "class: Animal\n",
      "train[0]: GetAudiosetSample/result/balanced_train/Speech/--aE2O5G5WE.wav\n",
      "valid[0]: GetAudiosetSample/result/eval/Speech/--aE2O5G5WE.wav\n",
      "train,valid: 1062 , 846\n",
      "miss!\n",
      "miss!\n",
      "miss!\n",
      "miss!\n",
      "miss!\n",
      "miss!\n",
      "miss!\n",
      "miss!\n",
      "miss!\n",
      "miss!\n",
      "miss!\n",
      "miss!\n",
      "miss!\n",
      "miss!\n",
      "miss!\n",
      "miss!\n",
      "miss!\n",
      "train用データの数：1054\n",
      "valid用データの数：1639\n"
     ]
    }
   ],
   "source": [
    "dataloader_dict=get_dataloader_dict(labels,datatype=\"177_train\",num_data=177)"
   ]
  },
  {
   "cell_type": "code",
   "execution_count": null,
   "id": "ec3badc2",
   "metadata": {},
   "outputs": [],
   "source": []
  }
 ],
 "metadata": {
  "kernelspec": {
   "display_name": "Python 3",
   "language": "python",
   "name": "python3"
  },
  "language_info": {
   "codemirror_mode": {
    "name": "ipython",
    "version": 3
   },
   "file_extension": ".py",
   "mimetype": "text/x-python",
   "name": "python",
   "nbconvert_exporter": "python",
   "pygments_lexer": "ipython3",
   "version": "3.8.8"
  }
 },
 "nbformat": 4,
 "nbformat_minor": 5
}
