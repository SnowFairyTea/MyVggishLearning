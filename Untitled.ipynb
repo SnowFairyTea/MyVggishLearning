{
 "cells": [
  {
   "cell_type": "code",
   "execution_count": 1,
   "id": "644fc9e1",
   "metadata": {},
   "outputs": [
    {
     "name": "stdout",
     "output_type": "stream",
     "text": [
      "vggish/embedding:0\n",
      "vggish/embedding:0\n",
      "Using cuda device\n"
     ]
    }
   ],
   "source": [
    "from mylibs.dataloader_dict import *\n",
    "from mylibs.trainer import *\n",
    "import torch\n",
    "import torch.nn as nn\n",
    "import os\n",
    "import torch.utils.data as data\n",
    "from importlib import import_module\n",
    "import matplotlib.pyplot as plt\n",
    "import torch.optim as optim\n",
    "import copy\n",
    "\n",
    "vggish_input=import_module(\".torchvggish.vggish_input\",\"torchvggish-master_changed\")\n",
    "use_pretrained = True\n",
    "\n",
    "#GPU\n",
    "device = 'cuda' if torch.cuda.is_available() else 'cpu'\n",
    "print('Using {} device'.format(device))\n",
    "labels=[\"Speech\",\"Music\",\"Car\",\"Siren\",\"Vehicle\",\"Wind\",\"Animal\",\"Dog\"]"
   ]
  },
  {
   "cell_type": "code",
   "execution_count": 2,
   "id": "d2be34d8",
   "metadata": {},
   "outputs": [
    {
     "name": "stdout",
     "output_type": "stream",
     "text": [
      "vggish/embedding:0\n",
      "C:\\Users\\hase\\git\\MyVggishLearning\\mylibs\\dataloaders ['C:\\\\Users\\\\hase\\\\git\\\\MyVggishLearning\\\\mylibs\\\\dataloaders\\\\evalMusicSilenceSirenSpeechVehicleWind.jb', 'C:\\\\Users\\\\hase\\\\git\\\\MyVggishLearning\\\\mylibs\\\\dataloaders\\\\train300AnimalCarDogMusicSirenSpeechVehicleWind.jb', 'C:\\\\Users\\\\hase\\\\git\\\\MyVggishLearning\\\\mylibs\\\\dataloaders\\\\trainMusic100Speech100.jb', 'C:\\\\Users\\\\hase\\\\git\\\\MyVggishLearning\\\\mylibs\\\\dataloaders\\\\trainMusic10Speech10.jb', 'C:\\\\Users\\\\hase\\\\git\\\\MyVggishLearning\\\\mylibs\\\\dataloaders\\\\trainMusicSilenceSirenSpeechVehicle.jb', 'C:\\\\Users\\\\hase\\\\git\\\\MyVggishLearning\\\\mylibs\\\\dataloaders\\\\trainMusicSilenceSirenSpeechVehicleWind.jb', 'C:\\\\Users\\\\hase\\\\git\\\\MyVggishLearning\\\\mylibs\\\\dataloaders\\\\trainMusicSirenSpeechVehicle.jb', 'C:\\\\Users\\\\hase\\\\git\\\\MyVggishLearning\\\\mylibs\\\\dataloaders\\\\trainMusicSpeech.jb']\n",
      "joblib.loadします\n",
      "train用データの数：1744\n",
      "valid用データの数：518\n"
     ]
    }
   ],
   "source": [
    "mymodel=trainer(_print=False,_lr=0.01,_classfilter=nn.Sequential(\n",
    "                            nn.Linear(128,64),\n",
    "                            nn.Dropout(p=0.25),\n",
    "                            nn.Sigmoid(),\n",
    "                            nn.Linear(64,8),\n",
    "                            nn.Softmax(dim=1)\n",
    "                            ) )\n",
    "dataloader_dict=get_dataloader_dict(labels,datatype=\"train\",num_data=300)"
   ]
  },
  {
   "cell_type": "code",
   "execution_count": 4,
   "id": "ed8b9b2d",
   "metadata": {},
   "outputs": [
    {
     "name": "stdout",
     "output_type": "stream",
     "text": [
      "Epoch 1/50\n",
      "train Loss: 2.079652 Acc: 0.129567\n",
      "0 train 2.0796522445312227\n",
      "valid Loss: 2.083304 Acc: 0.109695\n",
      "0 valid 2.083303863820812\n",
      "Epoch 2/50\n",
      "train Loss: 2.078835 Acc: 0.153943\n",
      "1 train 2.078834713855718\n",
      "valid Loss: 2.082337 Acc: 0.174585\n",
      "1 valid 2.0823371303546563\n",
      "Epoch 3/50\n",
      "train Loss: 2.077992 Acc: 0.168741\n",
      "2 train 2.0779924518507533\n",
      "valid Loss: 2.081373 Acc: 0.198919\n",
      "2 valid 2.081373010191875\n",
      "Epoch 4/50\n",
      "train Loss: 2.077089 Acc: 0.174534\n",
      "3 train 2.077089103819615\n",
      "valid Loss: 2.080412 Acc: 0.207030\n",
      "3 valid 2.080411839917987\n",
      "Epoch 5/50\n",
      "train Loss: 2.076226 Acc: 0.179122\n",
      "4 train 2.076226056117809\n",
      "valid Loss: 2.079449 Acc: 0.211665\n",
      "4 valid 2.0794492801122564\n",
      "Epoch 6/50\n",
      "train Loss: 2.075346 Acc: 0.178778\n",
      "5 train 2.075346016767615\n",
      "valid Loss: 2.078480 Acc: 0.215141\n",
      "5 valid 2.0784799999231165\n",
      "Epoch 7/50\n",
      "train Loss: 2.074517 Acc: 0.177172\n",
      "6 train 2.074516615554464\n",
      "valid Loss: 2.077529 Acc: 0.217072\n",
      "6 valid 2.0775291386512587\n",
      "Epoch 8/50\n",
      "train Loss: 2.073668 Acc: 0.178836\n",
      "7 train 2.073667938469268\n",
      "valid Loss: 2.076591 Acc: 0.218231\n",
      "7 valid 2.076590946716155\n",
      "Epoch 9/50\n",
      "train Loss: 2.072804 Acc: 0.178434\n",
      "8 train 2.072803527330443\n",
      "valid Loss: 2.075640 Acc: 0.218231\n",
      "8 valid 2.0756403313220906\n",
      "Epoch 10/50\n",
      "train Loss: 2.071956 Acc: 0.180155\n",
      "9 train 2.071955503554545\n",
      "valid Loss: 2.074716 Acc: 0.218617\n",
      "9 valid 2.074716486494345\n",
      "Epoch 11/50\n",
      "train Loss: 2.071070 Acc: 0.178950\n",
      "10 train 2.0710698152497806\n",
      "valid Loss: 2.073800 Acc: 0.219390\n",
      "10 valid 2.0738004668424748\n",
      "Epoch 12/50\n",
      "train Loss: 2.070286 Acc: 0.178549\n",
      "11 train 2.0702863080063283\n",
      "valid Loss: 2.072907 Acc: 0.220162\n",
      "11 valid 2.072906960571719\n",
      "Epoch 13/50\n",
      "train Loss: 2.069456 Acc: 0.182105\n",
      "12 train 2.069455807004578\n",
      "valid Loss: 2.072029 Acc: 0.220162\n",
      "12 valid 2.07202876963271\n",
      "Epoch 14/50\n",
      "train Loss: 2.068688 Acc: 0.183596\n",
      "13 train 2.068687755534394\n",
      "valid Loss: 2.071144 Acc: 0.219390\n",
      "13 valid 2.0711440634847196\n",
      "Epoch 15/50\n",
      "train Loss: 2.067862 Acc: 0.185661\n",
      "14 train 2.0678619031821346\n",
      "valid Loss: 2.070279 Acc: 0.220162\n",
      "14 valid 2.0702786686891015\n",
      "Epoch 16/50\n",
      "train Loss: 2.067124 Acc: 0.187038\n",
      "15 train 2.0671236659997096\n",
      "valid Loss: 2.069434 Acc: 0.219776\n",
      "15 valid 2.0694342139329907\n",
      "Epoch 17/50\n",
      "train Loss: 2.066296 Acc: 0.189217\n",
      "16 train 2.066295606754282\n",
      "valid Loss: 2.068584 Acc: 0.219003\n",
      "16 valid 2.068584370493382\n",
      "Epoch 18/50\n",
      "train Loss: 2.065588 Acc: 0.189217\n",
      "17 train 2.0655875214882213\n",
      "valid Loss: 2.067780 Acc: 0.221321\n",
      "17 valid 2.0677802201724504\n",
      "Epoch 19/50\n",
      "train Loss: 2.064770 Acc: 0.193748\n",
      "18 train 2.0647703426630204\n",
      "valid Loss: 2.066984 Acc: 0.224797\n",
      "18 valid 2.066983520777449\n",
      "Epoch 20/50\n",
      "train Loss: 2.064067 Acc: 0.197591\n",
      "19 train 2.0640669986926143\n",
      "valid Loss: 2.066171 Acc: 0.225956\n",
      "19 valid 2.0661707573666357\n",
      "Epoch 21/50\n",
      "train Loss: 2.063345 Acc: 0.201262\n",
      "20 train 2.0633445110162416\n",
      "valid Loss: 2.065400 Acc: 0.227501\n",
      "20 valid 2.065399588835014\n",
      "Epoch 22/50\n",
      "train Loss: 2.062615 Acc: 0.205908\n",
      "21 train 2.0626151886511437\n",
      "valid Loss: 2.064635 Acc: 0.233295\n",
      "21 valid 2.064635458209884\n",
      "Epoch 23/50\n",
      "train Loss: 2.061968 Acc: 0.212102\n",
      "22 train 2.0619678956100995\n",
      "valid Loss: 2.063897 Acc: 0.244496\n",
      "22 valid 2.06389720548576\n",
      "Epoch 24/50\n",
      "train Loss: 2.061216 Acc: 0.220878\n",
      "23 train 2.061216363737294\n",
      "valid Loss: 2.063159 Acc: 0.252607\n",
      "23 valid 2.063159068655719\n",
      "Epoch 25/50\n",
      "train Loss: 2.060478 Acc: 0.226441\n",
      "24 train 2.060477946117063\n",
      "valid Loss: 2.062430 Acc: 0.265740\n",
      "24 valid 2.062430002506104\n",
      "Epoch 26/50\n",
      "train Loss: 2.059881 Acc: 0.234299\n",
      "25 train 2.059881137440941\n",
      "valid Loss: 2.061737 Acc: 0.277713\n",
      "25 valid 2.0617365228388476\n",
      "Epoch 27/50\n",
      "train Loss: 2.059183 Acc: 0.242673\n",
      "26 train 2.0591828386866333\n",
      "valid Loss: 2.061038 Acc: 0.288142\n",
      "26 valid 2.0610384328248372\n",
      "Epoch 28/50\n",
      "train Loss: 2.058419 Acc: 0.253513\n",
      "27 train 2.058419276555562\n",
      "valid Loss: 2.060341 Acc: 0.297412\n",
      "27 valid 2.060341076668555\n",
      "Epoch 29/50\n",
      "train Loss: 2.057829 Acc: 0.260281\n",
      "28 train 2.0578289692470944\n",
      "valid Loss: 2.059659 Acc: 0.305137\n",
      "28 valid 2.0596585270980006\n",
      "Epoch 30/50\n",
      "train Loss: 2.057109 Acc: 0.270433\n",
      "29 train 2.0571094441967706\n",
      "valid Loss: 2.058993 Acc: 0.320201\n",
      "29 valid 2.0589925292469258\n",
      "Epoch 31/50\n",
      "train Loss: 2.056606 Acc: 0.277201\n",
      "30 train 2.056605911610425\n",
      "valid Loss: 2.058347 Acc: 0.330243\n",
      "30 valid 2.058346518359621\n",
      "Epoch 32/50\n",
      "train Loss: 2.055933 Acc: 0.284428\n",
      "31 train 2.0559330839874206\n",
      "valid Loss: 2.057705 Acc: 0.336423\n",
      "31 valid 2.057705154378426\n",
      "Epoch 33/50\n",
      "train Loss: 2.055268 Acc: 0.289360\n",
      "32 train 2.0552681227416816\n",
      "valid Loss: 2.057075 Acc: 0.345307\n",
      "32 valid 2.057074740385171\n",
      "Epoch 34/50\n",
      "train Loss: 2.054658 Acc: 0.298939\n",
      "33 train 2.054658319398329\n",
      "valid Loss: 2.056445 Acc: 0.353418\n",
      "33 valid 2.056444998457884\n",
      "Epoch 35/50\n",
      "train Loss: 2.054055 Acc: 0.302151\n",
      "34 train 2.054055259601756\n",
      "valid Loss: 2.055824 Acc: 0.357281\n",
      "34 valid 2.0558242292282616\n",
      "Epoch 36/50\n",
      "train Loss: 2.053330 Acc: 0.311041\n",
      "35 train 2.0533296803468137\n",
      "valid Loss: 2.055211 Acc: 0.361143\n",
      "35 valid 2.0552109611591534\n",
      "Epoch 37/50\n",
      "train Loss: 2.052815 Acc: 0.311156\n",
      "36 train 2.052814662097551\n",
      "valid Loss: 2.054619 Acc: 0.365778\n",
      "36 valid 2.054618673188293\n",
      "Epoch 38/50\n",
      "train Loss: 2.052174 Acc: 0.319071\n",
      "37 train 2.0521736593550037\n",
      "valid Loss: 2.054030 Acc: 0.370027\n",
      "37 valid 2.054030427881169\n",
      "Epoch 39/50\n",
      "train Loss: 2.051681 Acc: 0.325724\n",
      "38 train 2.051681387687707\n",
      "valid Loss: 2.053467 Acc: 0.373117\n",
      "38 valid 2.0534671923054284\n",
      "Epoch 40/50\n",
      "train Loss: 2.051020 Acc: 0.328821\n",
      "39 train 2.0510198068304257\n",
      "valid Loss: 2.052908 Acc: 0.376207\n",
      "39 valid 2.052908299741896\n",
      "Epoch 41/50\n",
      "train Loss: 2.050354 Acc: 0.333467\n",
      "40 train 2.050353669696323\n",
      "valid Loss: 2.052350 Acc: 0.378911\n",
      "40 valid 2.0523502365784925\n",
      "Epoch 42/50\n",
      "train Loss: 2.049895 Acc: 0.332549\n",
      "41 train 2.049894697180032\n",
      "valid Loss: 2.051803 Acc: 0.382001\n",
      "41 valid 2.051803138827946\n",
      "Epoch 43/50\n",
      "train Loss: 2.049443 Acc: 0.339604\n",
      "42 train 2.049442977319996\n",
      "valid Loss: 2.051288 Acc: 0.383160\n",
      "42 valid 2.051288108882779\n",
      "Epoch 44/50\n",
      "train Loss: 2.048757 Acc: 0.342759\n",
      "43 train 2.048757316186225\n",
      "valid Loss: 2.050770 Acc: 0.382001\n",
      "43 valid 2.05077024462049\n",
      "Epoch 45/50\n",
      "train Loss: 2.048224 Acc: 0.346544\n",
      "44 train 2.0482235466951897\n",
      "valid Loss: 2.050239 Acc: 0.382001\n",
      "44 valid 2.0502393727783255\n",
      "Epoch 46/50\n",
      "train Loss: 2.047672 Acc: 0.349183\n",
      "45 train 2.047671671955709\n",
      "valid Loss: 2.049723 Acc: 0.385091\n",
      "45 valid 2.0497231078267606\n",
      "Epoch 47/50\n",
      "train Loss: 2.047045 Acc: 0.353255\n",
      "46 train 2.047044520532637\n",
      "valid Loss: 2.049210 Acc: 0.388953\n",
      "46 valid 2.049210270430048\n",
      "Epoch 48/50\n",
      "train Loss: 2.046637 Acc: 0.353943\n",
      "47 train 2.046636983115522\n",
      "valid Loss: 2.048702 Acc: 0.388953\n",
      "47 valid 2.048701679305986\n",
      "Epoch 49/50\n",
      "train Loss: 2.045957 Acc: 0.360252\n",
      "48 train 2.0459570591382046\n",
      "valid Loss: 2.048206 Acc: 0.388567\n",
      "48 valid 2.048205958226787\n",
      "Epoch 50/50\n",
      "train Loss: 2.045512 Acc: 0.360539\n",
      "49 train 2.045512478434325\n",
      "valid Loss: 2.047718 Acc: 0.388953\n",
      "49 valid 2.0477182562630256\n"
     ]
    },
    {
     "ename": "TypeError",
     "evalue": "unhashable type: 'slice'",
     "output_type": "error",
     "traceback": [
      "\u001b[1;31m---------------------------------------------------------------------------\u001b[0m",
      "\u001b[1;31mTypeError\u001b[0m                                 Traceback (most recent call last)",
      "\u001b[1;32m<ipython-input-4-5955132fd172>\u001b[0m in \u001b[0;36m<module>\u001b[1;34m\u001b[0m\n\u001b[0;32m      1\u001b[0m \u001b[0mmymodel\u001b[0m\u001b[1;33m.\u001b[0m\u001b[0mtrain\u001b[0m\u001b[1;33m(\u001b[0m\u001b[0mdataloader_dict\u001b[0m\u001b[1;33m,\u001b[0m\u001b[0m_print\u001b[0m\u001b[1;33m=\u001b[0m\u001b[1;32mTrue\u001b[0m\u001b[1;33m,\u001b[0m\u001b[0m_num_epochs\u001b[0m\u001b[1;33m=\u001b[0m\u001b[1;36m50\u001b[0m\u001b[1;33m)\u001b[0m\u001b[1;33m\u001b[0m\u001b[1;33m\u001b[0m\u001b[0m\n\u001b[1;32m----> 2\u001b[1;33m \u001b[0mmymodel\u001b[0m\u001b[1;33m.\u001b[0m\u001b[0mgraph\u001b[0m\u001b[1;33m(\u001b[0m\u001b[1;33m)\u001b[0m\u001b[1;33m\u001b[0m\u001b[1;33m\u001b[0m\u001b[0m\n\u001b[0m",
      "\u001b[1;32m~\\git\\MyVggishLearning\\mylibs\\trainer.py\u001b[0m in \u001b[0;36mgraph\u001b[1;34m(self, _title, acc, loss)\u001b[0m\n\u001b[0;32m    143\u001b[0m     \u001b[1;32mdef\u001b[0m \u001b[0mgraph\u001b[0m\u001b[1;33m(\u001b[0m\u001b[0mself\u001b[0m\u001b[1;33m,\u001b[0m\u001b[0m_title\u001b[0m\u001b[1;33m=\u001b[0m\u001b[1;34m\"\"\u001b[0m\u001b[1;33m,\u001b[0m\u001b[0macc\u001b[0m\u001b[1;33m=\u001b[0m\u001b[1;32mTrue\u001b[0m\u001b[1;33m,\u001b[0m\u001b[0mloss\u001b[0m\u001b[1;33m=\u001b[0m\u001b[1;32mTrue\u001b[0m\u001b[1;33m)\u001b[0m\u001b[1;33m:\u001b[0m\u001b[1;33m\u001b[0m\u001b[1;33m\u001b[0m\u001b[0m\n\u001b[0;32m    144\u001b[0m         \u001b[1;32mif\u001b[0m\u001b[1;33m(\u001b[0m\u001b[0macc\u001b[0m\u001b[1;33m)\u001b[0m\u001b[1;33m:\u001b[0m\u001b[1;33m\u001b[0m\u001b[1;33m\u001b[0m\u001b[0m\n\u001b[1;32m--> 145\u001b[1;33m             \u001b[0mplt\u001b[0m\u001b[1;33m.\u001b[0m\u001b[0mplot\u001b[0m\u001b[1;33m(\u001b[0m\u001b[0mself\u001b[0m\u001b[1;33m.\u001b[0m\u001b[0mx\u001b[0m\u001b[1;33m[\u001b[0m\u001b[1;33m:\u001b[0m\u001b[1;33m:\u001b[0m\u001b[1;36m2\u001b[0m\u001b[1;33m]\u001b[0m\u001b[1;33m,\u001b[0m\u001b[1;33m[\u001b[0m\u001b[0mi\u001b[0m\u001b[1;33m.\u001b[0m\u001b[0mtolist\u001b[0m\u001b[1;33m(\u001b[0m\u001b[1;33m)\u001b[0m \u001b[1;32mfor\u001b[0m \u001b[0mi\u001b[0m \u001b[1;32min\u001b[0m \u001b[0mself\u001b[0m\u001b[1;33m.\u001b[0m\u001b[0my_acc\u001b[0m\u001b[1;33m[\u001b[0m\u001b[1;34m\"train\"\u001b[0m\u001b[1;33m]\u001b[0m\u001b[1;33m]\u001b[0m\u001b[1;33m,\u001b[0m \u001b[0mlabel\u001b[0m\u001b[1;33m=\u001b[0m\u001b[1;34m\"train\"\u001b[0m\u001b[1;33m,\u001b[0m \u001b[0mcolor\u001b[0m \u001b[1;33m=\u001b[0m\u001b[1;34m\"Green\"\u001b[0m\u001b[1;33m)\u001b[0m\u001b[1;33m\u001b[0m\u001b[1;33m\u001b[0m\u001b[0m\n\u001b[0m\u001b[0;32m    146\u001b[0m             \u001b[0mplt\u001b[0m\u001b[1;33m.\u001b[0m\u001b[0mplot\u001b[0m\u001b[1;33m(\u001b[0m\u001b[0mself\u001b[0m\u001b[1;33m.\u001b[0m\u001b[0mx\u001b[0m\u001b[1;33m[\u001b[0m\u001b[1;33m:\u001b[0m\u001b[1;33m:\u001b[0m\u001b[1;36m2\u001b[0m\u001b[1;33m]\u001b[0m\u001b[1;33m,\u001b[0m\u001b[1;33m[\u001b[0m\u001b[0mi\u001b[0m\u001b[1;33m.\u001b[0m\u001b[0mtolist\u001b[0m\u001b[1;33m(\u001b[0m\u001b[1;33m)\u001b[0m \u001b[1;32mfor\u001b[0m \u001b[0mi\u001b[0m \u001b[1;32min\u001b[0m \u001b[0mself\u001b[0m\u001b[1;33m.\u001b[0m\u001b[0my_acc\u001b[0m\u001b[1;33m[\u001b[0m\u001b[1;34m\"valid\"\u001b[0m\u001b[1;33m]\u001b[0m\u001b[1;33m]\u001b[0m\u001b[1;33m,\u001b[0m \u001b[0mlabel\u001b[0m\u001b[1;33m=\u001b[0m\u001b[1;34m\"valid\"\u001b[0m\u001b[1;33m,\u001b[0m \u001b[0mcolor\u001b[0m \u001b[1;33m=\u001b[0m\u001b[1;34m\"Blue\"\u001b[0m\u001b[1;33m)\u001b[0m\u001b[1;33m\u001b[0m\u001b[1;33m\u001b[0m\u001b[0m\n\u001b[0;32m    147\u001b[0m             \u001b[0mplt\u001b[0m\u001b[1;33m.\u001b[0m\u001b[0mlegend\u001b[0m\u001b[1;33m(\u001b[0m\u001b[0mloc\u001b[0m\u001b[1;33m=\u001b[0m\u001b[1;34m'upper left'\u001b[0m\u001b[1;33m)\u001b[0m\u001b[1;33m\u001b[0m\u001b[1;33m\u001b[0m\u001b[0m\n",
      "\u001b[1;31mTypeError\u001b[0m: unhashable type: 'slice'"
     ]
    }
   ],
   "source": [
    "mymodel.train(dataloader_dict,_print=True,_num_epochs=50)\n",
    "mymodel.graph()"
   ]
  },
  {
   "cell_type": "code",
   "execution_count": null,
   "id": "32d5195f",
   "metadata": {},
   "outputs": [],
   "source": [
    "mymodel.y_loss[::2]"
   ]
  },
  {
   "cell_type": "code",
   "execution_count": null,
   "id": "191f5901",
   "metadata": {},
   "outputs": [],
   "source": [
    "y_acc={\"train\":[],\"valid\":[]}\n",
    "y_acc[\"train\"].append(1)\n",
    "y_acc[\"train\"]"
   ]
  },
  {
   "cell_type": "code",
   "execution_count": 3,
   "id": "989b344e",
   "metadata": {},
   "outputs": [
    {
     "name": "stdout",
     "output_type": "stream",
     "text": [
      "Epoch 1/5\n",
      "train Loss: 2.080716 Acc: 0.098939\n",
      "0 train 2.0807155594635667\n",
      "valid Loss: 2.078767 Acc: 0.000000\n",
      "0 valid 2.0787669011827323\n",
      "Epoch 2/5\n",
      "train Loss: 2.080008 Acc: 0.099685\n",
      "1 train 2.0800077565802795\n",
      "valid Loss: 2.078049 Acc: 0.000386\n",
      "1 valid 2.0780494174426845\n",
      "Epoch 3/5\n",
      "train Loss: 2.079255 Acc: 0.100029\n",
      "2 train 2.0792554251471462\n",
      "valid Loss: 2.077342 Acc: 0.000772\n",
      "2 valid 2.077342326781979\n",
      "Epoch 4/5\n",
      "train Loss: 2.078519 Acc: 0.101577\n",
      "3 train 2.0785192317869656\n",
      "valid Loss: 2.076630 Acc: 0.001931\n",
      "3 valid 2.0766303842249134\n",
      "Epoch 5/5\n",
      "train Loss: 2.077791 Acc: 0.104158\n",
      "4 train 2.0777907399554154\n",
      "valid Loss: 2.075930 Acc: 0.002317\n",
      "4 valid 2.0759304334132906\n"
     ]
    },
    {
     "data": {
      "image/png": "[encoded data removed]",
      "text/plain": [
       "<Figure size 432x288 with 1 Axes>"
      ]
     },
     "metadata": {
      "needs_background": "light"
     },
     "output_type": "display_data"
    },
    {
     "data": {
      "image/png": "[encoded data removed]",
      "text/plain": [
       "<Figure size 432x288 with 1 Axes>"
      ]
     },
     "metadata": {
      "needs_background": "light"
     },
     "output_type": "display_data"
    }
   ],
   "source": [
    "mymodel.train(dataloader_dict,_print=True,_num_epochs=5)\n",
    "mymodel.graph()"
   ]
  },
  {
   "cell_type": "code",
   "execution_count": 4,
   "id": "5a1ff836",
   "metadata": {},
   "outputs": [
    {
     "data": {
      "text/plain": [
       "[0.2158302265557786,\n",
       " 0.23682248351018068,\n",
       " 0.2508746773731001,\n",
       " 0.2622311442500717,\n",
       " 0.2708918841410955]"
      ]
     },
     "execution_count": 4,
     "metadata": {},
     "output_type": "execute_result"
    }
   ],
   "source": [
    "\n",
    "mymodel.y_acc[\"train\"]\n",
    "\n",
    "\n"
   ]
  },
  {
   "cell_type": "code",
   "execution_count": 5,
   "id": "06a83893",
   "metadata": {},
   "outputs": [
    {
     "ename": "TypeError",
     "evalue": "unhashable type: 'slice'",
     "output_type": "error",
     "traceback": [
      "\u001b[1;31m---------------------------------------------------------------------------\u001b[0m",
      "\u001b[1;31mTypeError\u001b[0m                                 Traceback (most recent call last)",
      "\u001b[1;32m<ipython-input-5-baf784986869>\u001b[0m in \u001b[0;36m<module>\u001b[1;34m\u001b[0m\n\u001b[1;32m----> 1\u001b[1;33m \u001b[0mmymodel\u001b[0m\u001b[1;33m.\u001b[0m\u001b[0mx\u001b[0m\u001b[1;33m[\u001b[0m\u001b[1;33m:\u001b[0m\u001b[1;33m:\u001b[0m\u001b[1;36m2\u001b[0m\u001b[1;33m]\u001b[0m\u001b[1;33m\u001b[0m\u001b[1;33m\u001b[0m\u001b[0m\n\u001b[0m",
      "\u001b[1;31mTypeError\u001b[0m: unhashable type: 'slice'"
     ]
    }
   ],
   "source": [
    "mymodel.x[::2]"
   ]
  },
  {
   "cell_type": "code",
   "execution_count": null,
   "id": "25685541",
   "metadata": {},
   "outputs": [],
   "source": [
    "sそもそものLossの出し方が間違ってる説ある"
   ]
  }
 ],
 "metadata": {
  "kernelspec": {
   "display_name": "Python 3",
   "language": "python",
   "name": "python3"
  },
  "language_info": {
   "codemirror_mode": {
    "name": "ipython",
    "version": 3
   },
   "file_extension": ".py",
   "mimetype": "text/x-python",
   "name": "python",
   "nbconvert_exporter": "python",
   "pygments_lexer": "ipython3",
   "version": "3.8.8"
  }
 },
 "nbformat": 4,
 "nbformat_minor": 5
}
