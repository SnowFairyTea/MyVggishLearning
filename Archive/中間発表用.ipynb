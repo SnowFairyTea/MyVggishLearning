{
 "cells": [
  {
   "cell_type": "code",
   "execution_count": 2,
   "id": "770cff74",
   "metadata": {},
   "outputs": [
    {
     "name": "stdout",
     "output_type": "stream",
     "text": [
      "vggish/embedding:0\n",
      "vggish/embedding:0\n",
      "Using cuda device\n"
     ]
    }
   ],
   "source": [
    "from mylibs.dataloader_dict import *\n",
    "from mylibs.trainer import *\n",
    "import torch\n",
    "import torch.nn as nn\n",
    "import os\n",
    "import torch.utils.data as data\n",
    "from importlib import import_module\n",
    "import matplotlib.pyplot as plt\n",
    "import torch.optim as optim\n",
    "import copy\n",
    "\n",
    "vggish_input=import_module(\".torchvggish.vggish_input\",\"torchvggish-master_changed\")\n",
    "use_pretrained = True\n",
    "\n",
    "#GPU\n",
    "device = 'cuda' if torch.cuda.is_available() else 'cpu'\n",
    "print('Using {} device'.format(device))\n",
    "labels=[\"Speech\",\"Music\",\"Silence\",\"Siren\",\"Vehicle\",\"Wind\"]"
   ]
  },
  {
   "cell_type": "code",
   "execution_count": null,
   "id": "13d6dd40",
   "metadata": {},
   "outputs": [
    {
     "name": "stdout",
     "output_type": "stream",
     "text": [
      "C:\\Users\\hase\\git\\MyVggishLearning\\mylibs\\dataloaders ['C:\\\\Users\\\\hase\\\\git\\\\MyVggishLearning\\\\mylibs\\\\dataloaders\\\\evalMusicSilenceSirenSpeechVehicleWind.jb', 'C:\\\\Users\\\\hase\\\\git\\\\MyVggishLearning\\\\mylibs\\\\dataloaders\\\\trainMusic100Speech100.jb', 'C:\\\\Users\\\\hase\\\\git\\\\MyVggishLearning\\\\mylibs\\\\dataloaders\\\\trainMusic10Speech10.jb', 'C:\\\\Users\\\\hase\\\\git\\\\MyVggishLearning\\\\mylibs\\\\dataloaders\\\\trainMusicSilenceSirenSpeechVehicle.jb', 'C:\\\\Users\\\\hase\\\\git\\\\MyVggishLearning\\\\mylibs\\\\dataloaders\\\\trainMusicSilenceSirenSpeechVehicleWind.jb', 'C:\\\\Users\\\\hase\\\\git\\\\MyVggishLearning\\\\mylibs\\\\dataloaders\\\\trainMusicSirenSpeechVehicle.jb', 'C:\\\\Users\\\\hase\\\\git\\\\MyVggishLearning\\\\mylibs\\\\dataloaders\\\\trainMusicSpeech.jb']\n",
      "joblib.loadします\n"
     ]
    }
   ],
   "source": [
    "#これを保存した\n",
    "mymodel=trainer(_print=False,_lr=1,_classfilter=nn.Sequential(\n",
    "                            nn.Linear(128,64),\n",
    "                            nn.Dropout(p=0.50),\n",
    "                            nn.Sigmoid(),\n",
    "                            nn.Linear(64,6),\n",
    "                            nn.Softmax(dim=1)\n",
    "                            ) )\n",
    "dataloader_dict=get_dataloader_dict(labels,datatype=\"train\")\n",
    "\n"
   ]
  },
  {
   "cell_type": "code",
   "execution_count": 3,
   "id": "5fc884b2",
   "metadata": {},
   "outputs": [
    {
     "name": "stdout",
     "output_type": "stream",
     "text": [
      "Epoch 1/50\n",
      "train Loss: 1.754980 Acc: 0.389186\n",
      "valid Loss: 1.721434 Acc: 0.534602\n",
      "Epoch 2/50\n",
      "train Loss: 1.726320 Acc: 0.556298\n",
      "valid Loss: 1.694151 Acc: 0.601499\n",
      "Epoch 3/50\n",
      "train Loss: 1.714992 Acc: 0.597296\n",
      "valid Loss: 1.678263 Acc: 0.610727\n",
      "Epoch 4/50\n",
      "train Loss: 1.709053 Acc: 0.606655\n",
      "valid Loss: 1.667547 Acc: 0.613610\n",
      "Epoch 5/50\n",
      "train Loss: 1.704544 Acc: 0.615567\n",
      "valid Loss: 1.659371 Acc: 0.617070\n",
      "Epoch 6/50\n",
      "train Loss: 1.701740 Acc: 0.619727\n",
      "valid Loss: 1.653112 Acc: 0.619954\n",
      "Epoch 7/50\n",
      "train Loss: 1.698749 Acc: 0.628639\n",
      "valid Loss: 1.647691 Acc: 0.621107\n",
      "Epoch 8/50\n",
      "train Loss: 1.696949 Acc: 0.635324\n",
      "valid Loss: 1.643176 Acc: 0.655133\n",
      "Epoch 9/50\n",
      "train Loss: 1.694764 Acc: 0.646465\n",
      "valid Loss: 1.639166 Acc: 0.656286\n",
      "Epoch 10/50\n",
      "train Loss: 1.693738 Acc: 0.647950\n",
      "valid Loss: 1.635586 Acc: 0.656863\n",
      "Epoch 11/50\n",
      "train Loss: 1.692606 Acc: 0.650178\n",
      "valid Loss: 1.632603 Acc: 0.659170\n",
      "Epoch 12/50\n",
      "train Loss: 1.690903 Acc: 0.654783\n",
      "valid Loss: 1.629721 Acc: 0.656863\n",
      "Epoch 13/50\n",
      "train Loss: 1.690083 Acc: 0.654189\n",
      "valid Loss: 1.627388 Acc: 0.659746\n",
      "Epoch 14/50\n",
      "train Loss: 1.689382 Acc: 0.655674\n",
      "valid Loss: 1.625110 Acc: 0.660323\n",
      "Epoch 15/50\n",
      "train Loss: 1.689024 Acc: 0.660428\n",
      "valid Loss: 1.623064 Acc: 0.660900\n",
      "Epoch 16/50\n",
      "train Loss: 1.688045 Acc: 0.657160\n",
      "valid Loss: 1.621165 Acc: 0.662053\n",
      "Epoch 17/50\n",
      "train Loss: 1.686559 Acc: 0.663696\n",
      "valid Loss: 1.619404 Acc: 0.662630\n",
      "Epoch 18/50\n",
      "train Loss: 1.686276 Acc: 0.659388\n",
      "valid Loss: 1.617770 Acc: 0.663783\n",
      "Epoch 19/50\n",
      "train Loss: 1.685778 Acc: 0.665181\n",
      "valid Loss: 1.616316 Acc: 0.664937\n",
      "Epoch 20/50\n",
      "train Loss: 1.685478 Acc: 0.662359\n",
      "valid Loss: 1.614948 Acc: 0.666090\n",
      "Epoch 21/50\n",
      "train Loss: 1.685341 Acc: 0.665181\n",
      "valid Loss: 1.613711 Acc: 0.665513\n",
      "Epoch 22/50\n",
      "train Loss: 1.684416 Acc: 0.666370\n",
      "valid Loss: 1.612469 Acc: 0.665513\n",
      "Epoch 23/50\n",
      "train Loss: 1.684006 Acc: 0.668449\n",
      "valid Loss: 1.611253 Acc: 0.664360\n",
      "Epoch 24/50\n",
      "train Loss: 1.684125 Acc: 0.666072\n",
      "valid Loss: 1.610279 Acc: 0.664937\n",
      "Epoch 25/50\n",
      "train Loss: 1.683624 Acc: 0.670083\n",
      "valid Loss: 1.609279 Acc: 0.664360\n",
      "Epoch 26/50\n",
      "train Loss: 1.683364 Acc: 0.670677\n",
      "valid Loss: 1.608306 Acc: 0.663783\n",
      "Epoch 27/50\n",
      "train Loss: 1.682790 Acc: 0.672757\n",
      "valid Loss: 1.607510 Acc: 0.663783\n",
      "Epoch 28/50\n",
      "train Loss: 1.682541 Acc: 0.669340\n",
      "valid Loss: 1.606670 Acc: 0.662630\n",
      "Epoch 29/50\n",
      "train Loss: 1.682564 Acc: 0.669340\n",
      "valid Loss: 1.605837 Acc: 0.663206\n",
      "Epoch 30/50\n",
      "train Loss: 1.682034 Acc: 0.670232\n",
      "valid Loss: 1.605129 Acc: 0.666090\n",
      "Epoch 31/50\n",
      "train Loss: 1.681626 Acc: 0.675579\n",
      "valid Loss: 1.604371 Acc: 0.663783\n",
      "Epoch 32/50\n",
      "train Loss: 1.681504 Acc: 0.676619\n",
      "valid Loss: 1.603639 Acc: 0.664360\n",
      "Epoch 33/50\n",
      "train Loss: 1.681258 Acc: 0.675728\n",
      "valid Loss: 1.602921 Acc: 0.662630\n",
      "Epoch 34/50\n",
      "train Loss: 1.681730 Acc: 0.677659\n",
      "valid Loss: 1.602237 Acc: 0.662630\n",
      "Epoch 35/50\n",
      "train Loss: 1.680650 Acc: 0.673203\n",
      "valid Loss: 1.601663 Acc: 0.660900\n",
      "Epoch 36/50\n",
      "train Loss: 1.680812 Acc: 0.675728\n",
      "valid Loss: 1.601069 Acc: 0.663783\n",
      "Epoch 37/50\n",
      "train Loss: 1.680823 Acc: 0.675876\n",
      "valid Loss: 1.600538 Acc: 0.663206\n",
      "Epoch 38/50\n",
      "train Loss: 1.680311 Acc: 0.677956\n",
      "valid Loss: 1.600010 Acc: 0.664360\n",
      "Epoch 39/50\n",
      "train Loss: 1.680247 Acc: 0.679739\n",
      "valid Loss: 1.599502 Acc: 0.664360\n",
      "Epoch 40/50\n",
      "train Loss: 1.679787 Acc: 0.680778\n",
      "valid Loss: 1.598921 Acc: 0.663783\n",
      "Epoch 41/50\n",
      "train Loss: 1.679845 Acc: 0.674985\n",
      "valid Loss: 1.598403 Acc: 0.663206\n",
      "Epoch 42/50\n",
      "train Loss: 1.680116 Acc: 0.674688\n",
      "valid Loss: 1.597901 Acc: 0.663206\n",
      "Epoch 43/50\n",
      "train Loss: 1.679549 Acc: 0.678996\n",
      "valid Loss: 1.597478 Acc: 0.663206\n",
      "Epoch 44/50\n",
      "train Loss: 1.679453 Acc: 0.679887\n",
      "valid Loss: 1.597078 Acc: 0.663783\n",
      "Epoch 45/50\n",
      "train Loss: 1.679152 Acc: 0.680927\n",
      "valid Loss: 1.596612 Acc: 0.664360\n",
      "Epoch 46/50\n",
      "train Loss: 1.678980 Acc: 0.680481\n",
      "valid Loss: 1.596197 Acc: 0.664360\n",
      "Epoch 47/50\n",
      "train Loss: 1.679261 Acc: 0.680184\n",
      "valid Loss: 1.595771 Acc: 0.664360\n",
      "Epoch 48/50\n",
      "train Loss: 1.678638 Acc: 0.678996\n",
      "valid Loss: 1.595410 Acc: 0.664360\n",
      "Epoch 49/50\n",
      "train Loss: 1.678930 Acc: 0.683304\n",
      "valid Loss: 1.595021 Acc: 0.663783\n",
      "Epoch 50/50\n",
      "train Loss: 1.678598 Acc: 0.683007\n",
      "valid Loss: 1.594762 Acc: 0.663783\n"
     ]
    },
    {
     "data": {
      "image/png": "[encoded data removed]",
      "text/plain": [
       "<Figure size 432x288 with 1 Axes>"
      ]
     },
     "metadata": {
      "needs_background": "light"
     },
     "output_type": "display_data"
    },
    {
     "data": {
      "image/png": "[encoded data removed]",
      "text/plain": [
       "<Figure size 432x288 with 1 Axes>"
      ]
     },
     "metadata": {
      "needs_background": "light"
     },
     "output_type": "display_data"
    }
   ],
   "source": [
    "mymodel.train(dataloader_dict,_print=True,_num_epochs=50)\n",
    "mymodel.graph()"
   ]
  },
  {
   "cell_type": "code",
   "execution_count": null,
   "id": "3b37b6d8",
   "metadata": {},
   "outputs": [],
   "source": [
    "#hozon\n",
    "import joblib\n",
    "joblib.dump(mymodel,\"tyuukannyou.jb\", compress=3)"
   ]
  },
  {
   "cell_type": "code",
   "execution_count": 5,
   "id": "04ad9efa",
   "metadata": {},
   "outputs": [],
   "source": [
    "#よみこみ\n",
    "import joblib\n",
    "dataloader_dict=joblib.load(\"tyuukannyou.jb\")"
   ]
  },
  {
   "cell_type": "code",
   "execution_count": 4,
   "id": "bf4146c6",
   "metadata": {
    "scrolled": true
   },
   "outputs": [
    {
     "name": "stdout",
     "output_type": "stream",
     "text": [
      "C:\\Users\\hase\\git\\MyVggishLearning\\mylibs\\dataloaders ['C:\\\\Users\\\\hase\\\\git\\\\MyVggishLearning\\\\mylibs\\\\dataloaders\\\\evalMusicSilenceSirenSpeechVehicleWind.jb', 'C:\\\\Users\\\\hase\\\\git\\\\MyVggishLearning\\\\mylibs\\\\dataloaders\\\\trainMusic100Speech100.jb', 'C:\\\\Users\\\\hase\\\\git\\\\MyVggishLearning\\\\mylibs\\\\dataloaders\\\\trainMusic10Speech10.jb', 'C:\\\\Users\\\\hase\\\\git\\\\MyVggishLearning\\\\mylibs\\\\dataloaders\\\\trainMusicSilenceSirenSpeechVehicle.jb', 'C:\\\\Users\\\\hase\\\\git\\\\MyVggishLearning\\\\mylibs\\\\dataloaders\\\\trainMusicSilenceSirenSpeechVehicleWind.jb', 'C:\\\\Users\\\\hase\\\\git\\\\MyVggishLearning\\\\mylibs\\\\dataloaders\\\\trainMusicSirenSpeechVehicle.jb', 'C:\\\\Users\\\\hase\\\\git\\\\MyVggishLearning\\\\mylibs\\\\dataloaders\\\\trainMusicSpeech.jb']\n",
      "joblib.loadします\n",
      "train用データの数：75\n",
      "valid用データの数：42\n"
     ]
    },
    {
     "ename": "NameError",
     "evalue": "name 'mymodel' is not defined",
     "output_type": "error",
     "traceback": [
      "\u001b[1;31m---------------------------------------------------------------------------\u001b[0m",
      "\u001b[1;31mNameError\u001b[0m                                 Traceback (most recent call last)",
      "\u001b[1;32m<ipython-input-4-c4aa58c45011>\u001b[0m in \u001b[0;36m<module>\u001b[1;34m\u001b[0m\n\u001b[0;32m     39\u001b[0m     \u001b[0mprint\u001b[0m\u001b[1;33m(\u001b[0m\u001b[1;34m\"正解率:{:.3f}\"\u001b[0m\u001b[1;33m.\u001b[0m\u001b[0mformat\u001b[0m\u001b[1;33m(\u001b[0m\u001b[0macc\u001b[0m\u001b[1;33m/\u001b[0m\u001b[0mcount\u001b[0m\u001b[1;33m)\u001b[0m\u001b[1;33m)\u001b[0m\u001b[1;33m\u001b[0m\u001b[1;33m\u001b[0m\u001b[0m\n\u001b[0;32m     40\u001b[0m \u001b[1;31m#eval(mymodel,dataloader_dict,labels)\u001b[0m\u001b[1;33m\u001b[0m\u001b[1;33m\u001b[0m\u001b[1;33m\u001b[0m\u001b[0m\n\u001b[1;32m---> 41\u001b[1;33m \u001b[0meval2\u001b[0m\u001b[1;33m(\u001b[0m\u001b[0mmymodel\u001b[0m\u001b[1;33m,\u001b[0m\u001b[0mdataloader_dict\u001b[0m\u001b[1;33m,\u001b[0m\u001b[0mlabels\u001b[0m\u001b[1;33m)\u001b[0m\u001b[1;33m\u001b[0m\u001b[1;33m\u001b[0m\u001b[0m\n\u001b[0m",
      "\u001b[1;31mNameError\u001b[0m: name 'mymodel' is not defined"
     ]
    }
   ],
   "source": [
    "import numpy\n",
    "\n",
    "dataloader_dict=get_dataloader_dict(labels,datatype=\"eval\")\n",
    "def eval(tr,dataloader_dict,labels):\n",
    "    model=tr.model\n",
    "    inputs,la = iter(dataloader_dict[\"train\"]).__next__()\n",
    "    model.eval()\n",
    "\n",
    "    output = model(inputs)\n",
    "    for h in range(len(output)):\n",
    "        print(\"模範解答\",labels[la[h].item()])\n",
    "        ans=[[labels[i],output[h][i].item()] for i in range(len(labels))]\n",
    "        ans.sort(key=lambda x: x[1],reverse=True)\n",
    "        [print(\"{:7}:{:.5f}\".format(ans[i][0],ans[i][1])) for i in range(len(ans))]\n",
    "        print(\"----------------\")\n",
    "\n",
    "def eval2(tr,dataloader_dict,labels):\n",
    "    model=tr.model\n",
    "    acc=0\n",
    "    count=0.0\n",
    "    for inputs,la in dataloader_dict[\"train\"]:\n",
    "        \n",
    "        model.eval()\n",
    "        #print(inputs.shape)\n",
    "        #貼り付け\n",
    "        plt.imshow(inputs[0][0].to('cpu').detach().numpy().copy().T)\n",
    "        #表示\n",
    "        plt.show()\n",
    "        output = model(inputs)\n",
    "        for h in range(len(output)):\n",
    "            #print(\"模範解答\",labels[la[h].item()])\n",
    "            ans=[[i,output[h][i].item()] for i in range(len(labels))]\n",
    "            ans.sort(key=lambda x: x[1],reverse=True)\n",
    "            acc+=1 if (ans[0][0]==la[h])else 0\n",
    "            count+=1\n",
    "            #[print(\"{:7}:{:.5f}\".format(ans[i][0],ans[i][1])) for i in range(len(ans))]\n",
    "            #print(\"----------------\")\n",
    "    print(\"正解数/入力数:{}/{:.0f}\".format(acc,count))\n",
    "    print(\"正解率:{:.3f}\".format(acc/count))\n",
    "#eval(mymodel,dataloader_dict,labels)        \n",
    "eval2(mymodel,dataloader_dict,labels)\n"
   ]
  },
  {
   "cell_type": "code",
   "execution_count": null,
   "id": "56518499",
   "metadata": {},
   "outputs": [],
   "source": [
    "eval(mymodel,dataloader_dict,labels)"
   ]
  },
  {
   "cell_type": "code",
   "execution_count": null,
   "id": "bd730478",
   "metadata": {},
   "outputs": [],
   "source": [
    "mymodel.model"
   ]
  },
  {
   "cell_type": "code",
   "execution_count": 10,
   "id": "d6ebd3a0",
   "metadata": {},
   "outputs": [
    {
     "data": {
      "text/plain": [
       "VGG(\n",
       "  (features): Sequential(\n",
       "    (0): Conv2d(3, 64, kernel_size=(3, 3), stride=(1, 1), padding=(1, 1))\n",
       "    (1): ReLU(inplace=True)\n",
       "    (2): Conv2d(64, 64, kernel_size=(3, 3), stride=(1, 1), padding=(1, 1))\n",
       "    (3): ReLU(inplace=True)\n",
       "    (4): MaxPool2d(kernel_size=2, stride=2, padding=0, dilation=1, ceil_mode=False)\n",
       "    (5): Conv2d(64, 128, kernel_size=(3, 3), stride=(1, 1), padding=(1, 1))\n",
       "    (6): ReLU(inplace=True)\n",
       "    (7): Conv2d(128, 128, kernel_size=(3, 3), stride=(1, 1), padding=(1, 1))\n",
       "    (8): ReLU(inplace=True)\n",
       "    (9): MaxPool2d(kernel_size=2, stride=2, padding=0, dilation=1, ceil_mode=False)\n",
       "    (10): Conv2d(128, 256, kernel_size=(3, 3), stride=(1, 1), padding=(1, 1))\n",
       "    (11): ReLU(inplace=True)\n",
       "    (12): Conv2d(256, 256, kernel_size=(3, 3), stride=(1, 1), padding=(1, 1))\n",
       "    (13): ReLU(inplace=True)\n",
       "    (14): Conv2d(256, 256, kernel_size=(3, 3), stride=(1, 1), padding=(1, 1))\n",
       "    (15): ReLU(inplace=True)\n",
       "    (16): MaxPool2d(kernel_size=2, stride=2, padding=0, dilation=1, ceil_mode=False)\n",
       "    (17): Conv2d(256, 512, kernel_size=(3, 3), stride=(1, 1), padding=(1, 1))\n",
       "    (18): ReLU(inplace=True)\n",
       "    (19): Conv2d(512, 512, kernel_size=(3, 3), stride=(1, 1), padding=(1, 1))\n",
       "    (20): ReLU(inplace=True)\n",
       "    (21): Conv2d(512, 512, kernel_size=(3, 3), stride=(1, 1), padding=(1, 1))\n",
       "    (22): ReLU(inplace=True)\n",
       "    (23): MaxPool2d(kernel_size=2, stride=2, padding=0, dilation=1, ceil_mode=False)\n",
       "    (24): Conv2d(512, 512, kernel_size=(3, 3), stride=(1, 1), padding=(1, 1))\n",
       "    (25): ReLU(inplace=True)\n",
       "    (26): Conv2d(512, 512, kernel_size=(3, 3), stride=(1, 1), padding=(1, 1))\n",
       "    (27): ReLU(inplace=True)\n",
       "    (28): Conv2d(512, 512, kernel_size=(3, 3), stride=(1, 1), padding=(1, 1))\n",
       "    (29): ReLU(inplace=True)\n",
       "    (30): MaxPool2d(kernel_size=2, stride=2, padding=0, dilation=1, ceil_mode=False)\n",
       "  )\n",
       "  (avgpool): AdaptiveAvgPool2d(output_size=(7, 7))\n",
       "  (classifier): Sequential(\n",
       "    (0): Linear(in_features=25088, out_features=4096, bias=True)\n",
       "    (1): ReLU(inplace=True)\n",
       "    (2): Dropout(p=0.5, inplace=False)\n",
       "    (3): Linear(in_features=4096, out_features=4096, bias=True)\n",
       "    (4): ReLU(inplace=True)\n",
       "    (5): Dropout(p=0.5, inplace=False)\n",
       "    (6): Linear(in_features=4096, out_features=1000, bias=True)\n",
       "  )\n",
       ")"
      ]
     },
     "execution_count": 10,
     "metadata": {},
     "output_type": "execute_result"
    }
   ],
   "source": [
    "from torchvision import models, transforms\n",
    "vgg16 = models.vgg16(pretrained=True)\n",
    "vgg16"
   ]
  },
  {
   "cell_type": "code",
   "execution_count": 14,
   "id": "282aa151",
   "metadata": {},
   "outputs": [
    {
     "name": "stdout",
     "output_type": "stream",
     "text": [
      "C:\\Users\\hase\\git\\MyVggishLearning\\mylibs\\dataloaders ['C:\\\\Users\\\\hase\\\\git\\\\MyVggishLearning\\\\mylibs\\\\dataloaders\\\\evalMusicSilenceSirenSpeechVehicleWind.jb', 'C:\\\\Users\\\\hase\\\\git\\\\MyVggishLearning\\\\mylibs\\\\dataloaders\\\\trainMusic100Speech100.jb', 'C:\\\\Users\\\\hase\\\\git\\\\MyVggishLearning\\\\mylibs\\\\dataloaders\\\\trainMusic10Speech10.jb', 'C:\\\\Users\\\\hase\\\\git\\\\MyVggishLearning\\\\mylibs\\\\dataloaders\\\\trainMusicSilenceSirenSpeechVehicle.jb', 'C:\\\\Users\\\\hase\\\\git\\\\MyVggishLearning\\\\mylibs\\\\dataloaders\\\\trainMusicSilenceSirenSpeechVehicleWind.jb', 'C:\\\\Users\\\\hase\\\\git\\\\MyVggishLearning\\\\mylibs\\\\dataloaders\\\\trainMusicSirenSpeechVehicle.jb', 'C:\\\\Users\\\\hase\\\\git\\\\MyVggishLearning\\\\mylibs\\\\dataloaders\\\\trainMusicSpeech.jb']\n",
      "joblib.loadします\n",
      "train用データの数：674\n",
      "valid用データの数：347\n",
      "Epoch 1/1\n",
      "train Loss: 1.749437 Acc: 0.403001\n",
      "valid Loss: 1.707009 Acc: 0.508651\n"
     ]
    }
   ],
   "source": []
  },
  {
   "cell_type": "code",
   "execution_count": 6,
   "id": "467a494d",
   "metadata": {},
   "outputs": [
    {
     "name": "stdout",
     "output_type": "stream",
     "text": [
      "模範解答 Vehicle\n",
      "Wind   :0.23583\n",
      "Silence:0.20053\n",
      "Music  :0.19758\n",
      "Siren  :0.12860\n",
      "Vehicle:0.12783\n",
      "Speech :0.10964\n",
      "----------------\n",
      "模範解答 Vehicle\n",
      "Wind   :0.23164\n",
      "Silence:0.20014\n",
      "Music  :0.19257\n",
      "Vehicle:0.13592\n",
      "Siren  :0.12655\n",
      "Speech :0.11319\n",
      "----------------\n",
      "模範解答 Vehicle\n",
      "Wind   :0.22934\n",
      "Silence:0.20522\n",
      "Music  :0.19220\n",
      "Vehicle:0.13273\n",
      "Siren  :0.12866\n",
      "Speech :0.11184\n",
      "----------------\n",
      "模範解答 Speech\n",
      "Wind   :0.24147\n",
      "Silence:0.20513\n",
      "Music  :0.18645\n",
      "Vehicle:0.13060\n",
      "Siren  :0.12339\n",
      "Speech :0.11296\n",
      "----------------\n",
      "模範解答 Silence\n",
      "Wind   :0.23121\n",
      "Silence:0.20967\n",
      "Music  :0.19487\n",
      "Vehicle:0.12734\n",
      "Siren  :0.12481\n",
      "Speech :0.11210\n",
      "----------------\n",
      "模範解答 Music\n",
      "Wind   :0.22864\n",
      "Silence:0.20987\n",
      "Music  :0.18882\n",
      "Vehicle:0.12942\n",
      "Siren  :0.12860\n",
      "Speech :0.11464\n",
      "----------------\n",
      "模範解答 Vehicle\n",
      "Wind   :0.22793\n",
      "Silence:0.20327\n",
      "Music  :0.19721\n",
      "Vehicle:0.13238\n",
      "Siren  :0.12446\n",
      "Speech :0.11475\n",
      "----------------\n",
      "模範解答 Speech\n",
      "Wind   :0.23310\n",
      "Silence:0.20524\n",
      "Music  :0.18900\n",
      "Vehicle:0.13463\n",
      "Siren  :0.12655\n",
      "Speech :0.11148\n",
      "----------------\n",
      "模範解答 Music\n",
      "Wind   :0.22482\n",
      "Silence:0.20857\n",
      "Music  :0.19504\n",
      "Vehicle:0.13365\n",
      "Siren  :0.12736\n",
      "Speech :0.11056\n",
      "----------------\n",
      "模範解答 Silence\n",
      "Wind   :0.22977\n",
      "Silence:0.21000\n",
      "Music  :0.19464\n",
      "Vehicle:0.12839\n",
      "Siren  :0.12594\n",
      "Speech :0.11126\n",
      "----------------\n"
     ]
    }
   ],
   "source": [
    "nomodel=trainer(_print=False,_lr=1,_classfilter=nn.Sequential(\n",
    "                            nn.Linear(128,64),\n",
    "                            nn.Dropout(p=0.50),\n",
    "                            nn.Sigmoid(),\n",
    "                            nn.Linear(64,6),\n",
    "                            nn.Softmax(dim=1)\n",
    "                            ) )\n",
    "#dataloader_dict=get_dataloader_dict(labels,datatype=\"eval\")\n",
    "eval(nomodel,dataloader_dict,labels)"
   ]
  },
  {
   "cell_type": "code",
   "execution_count": null,
   "id": "2c162933",
   "metadata": {},
   "outputs": [],
   "source": []
  }
 ],
 "metadata": {
  "kernelspec": {
   "display_name": "Python 3",
   "language": "python",
   "name": "python3"
  },
  "language_info": {
   "codemirror_mode": {
    "name": "ipython",
    "version": 3
   },
   "file_extension": ".py",
   "mimetype": "text/x-python",
   "name": "python",
   "nbconvert_exporter": "python",
   "pygments_lexer": "ipython3",
   "version": "3.8.8"
  }
 },
 "nbformat": 4,
 "nbformat_minor": 5
}
